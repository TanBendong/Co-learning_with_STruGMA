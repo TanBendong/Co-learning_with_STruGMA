{
 "cells": [
  {
   "cell_type": "code",
   "execution_count": 1,
   "metadata": {},
   "outputs": [],
   "source": [
    "import os\n",
    "import numpy as np\n",
    "import pandas as pd\n",
    "from scipy.special import softmax\n",
    "from scipy.special import expit\n",
    "from scipy.stats import multivariate_normal\n",
    "from sklearn.mixture import GaussianMixture\n",
    "\n",
    "import tensorflow.compat.v2 as tf\n",
    "import tensorflow_probability as tfp\n",
    "\n",
    "\n",
    "from matplotlib import pyplot as plt\n",
    "from matplotlib.patches import Rectangle\n",
    "import matplotlib.colors as colors\n",
    "import matplotlib.cm as cm\n",
    "\n",
    "\n",
    "\n",
    "from read_dataset_for_constraint import switch_dataset\n",
    "\n",
    "from utils import plot_hyperrectangles, plot_pdfR\n",
    "\n",
    "np.set_printoptions(precision=5)\n",
    "tfd = tfp.distributions\n",
    "np.random.seed(111)\n",
    "tf.random.set_seed(111)\n",
    "\n"
   ]
  },
  {
   "cell_type": "code",
   "execution_count": 2,
   "metadata": {},
   "outputs": [
    {
     "name": "stdout",
     "output_type": "stream",
     "text": [
      "TensorFlow version: 2.1.0\n",
      "Eager execution: True\n"
     ]
    }
   ],
   "source": [
    "\n",
    "print(\"TensorFlow version: {}\".format(tf.__version__))\n",
    "print(\"Eager execution: {}\".format(tf.executing_eagerly()))\n"
   ]
  },
  {
   "cell_type": "code",
   "execution_count": 96,
   "metadata": {},
   "outputs": [],
   "source": [
    "dataset_name = \"wdbc\"\n",
    "type_eta = \"eta_variant\"\n",
    "if_pca = True\n",
    "\n",
    "X_train, y_train, X_val, y_val, X_test, y_test, y_train_onehot, y_val_onehot, y_test_onehot, scaler, color_map = \\\n",
    "    switch_dataset(dataset_name)(if_PCA = if_pca)"
   ]
  },
  {
   "cell_type": "code",
   "execution_count": 97,
   "metadata": {},
   "outputs": [
    {
     "data": {
      "image/png": "[encoded data removed]",
      "text/plain": [
       "<Figure size 432x288 with 1 Axes>"
      ]
     },
     "metadata": {
      "needs_background": "light"
     },
     "output_type": "display_data"
    }
   ],
   "source": [
    "plt.scatter(X_train[:,0], X_train[:,1], color=[color_map[i] for i in y_train])\n",
    "\n",
    "#plt.scatter(X_test[0],X_test[:,1], marker='^', color=[color_map[i] for i in y_test])\n",
    "plt.show()"
   ]
  },
  {
   "cell_type": "code",
   "execution_count": 110,
   "metadata": {},
   "outputs": [
    {
     "data": {
      "text/plain": [
       "<Figure size 432x288 with 0 Axes>"
      ]
     },
     "metadata": {},
     "output_type": "display_data"
    }
   ],
   "source": [
    "#M = X_train.shape[1]\n",
    "\n",
    "number_components = 4\n",
    "\n",
    "save_loss = []\n",
    "#np.random.seed(903604963)\n",
    "#np.random.seed(1595417368)\n",
    "#seed = np.random.seed(159541736)\n",
    "seed = np.random.seed(112)\n",
    "\n",
    "np.random.seed(seed)\n",
    "tf.random.set_seed(seed)\n",
    "\n",
    "\n",
    "class SoftTruncatedGaussianMixture(tf.Module):\n",
    "\n",
    "    def __init__(self, number_components, val_min, val_max, seed = 111):\n",
    "        \n",
    "        super(SoftTruncatedGaussianMixture, self).__init__()\n",
    "        np.random.seed(seed)\n",
    "        tf.random.set_seed(seed)\n",
    "        \n",
    "        self.eta =  tf.Variable(0., trainable=False) \n",
    "        self.number_components = number_components\n",
    "        self.stable = tf.constant(np.finfo(np.float32).eps)\n",
    "        \n",
    "        self.M = len(val_min)\n",
    "\n",
    "\n",
    "\n",
    "        \n",
    "        self.mu = tf.Variable(np.random.randn(self.number_components, self.M), dtype = tf.float32,\n",
    "                                              name = \"mu\")\n",
    "        np.random.seed(seed)\n",
    "        self.lower = tf.Variable(np.random.randn(self.number_components, self.M), dtype = tf.float32,\n",
    "                                                name = \"lower\")\n",
    "        np.random.seed(seed)\n",
    "        self.upper = tf.Variable(np.random.randn(self.number_components, self.M), dtype = tf.float32,\n",
    "                                                 name = \"upper\")\n",
    "        self.sigma = tf.Variable([[0.2 for j in range(self.M)] for i in range(number_components)], \n",
    "                                     dtype = tf.float32, name = \"sigma\")\n",
    "#         self.logits_k = tf.Variable(np.random.randn(number_components), \n",
    "#                                         dtype = tf.float32,  name= \"logits\")\n",
    "\n",
    "        \n",
    "       \n",
    "        #self.toto = tf.Variable(0.5)*\n",
    "        self.initialise_variables(val_min_in = val_min, val_max_in = val_max, seed = seed) #, \n",
    "                                 # way = \"toy_example_case\")        \n",
    "    \n",
    "    def initialise_variables(self, val_min_in, val_max_in, way = \"random\", seed = 111, X_train = None, k = 0):\n",
    "        np.random.seed(seed)\n",
    "        tf.random.set_seed(seed)\n",
    "        self.logits_k = tf.Variable(np.random.randn(number_components), \n",
    "                                        dtype = tf.float32,  name= \"logits\")\n",
    "        if way == \"random\":\n",
    "            val = np.random.uniform(low= val_min_in, high = val_max_in, size = (self.M, \n",
    "                                                                                self.number_components, self.M))\n",
    "            l = np.min(val, axis = 0).astype(np.float32)\n",
    "            u = np.max(val, axis = 0).astype(np.float32)\n",
    "            self.lower.assign(l)\n",
    "\n",
    "            self.upper.assign(u)\n",
    "\n",
    "            self.mu.assign([(1./2)*(l[i,:] + u[i,:]) for i in range(number_components)])\n",
    "\n",
    "\n",
    "            self.sigma.assign([[0.2 for j in range(self.M)] for i in range(number_components)])\n",
    "            \n",
    "        if way == \"toy_example_case\":\n",
    "            #print(\"toto\")\n",
    "            self.mu.assign([[-1.5 , 0], [1.5, 0]])\n",
    "        \n",
    "            self.lower.assign([[-3.0, -3], [0, -3]])\n",
    "        \n",
    "            self.upper.assign([[0, 3.0], [3, 3]])\n",
    "            self.sigma.assign([[0.2 for j in range(M)] for i in range(number_components)])\n",
    "    \n",
    "    def gmm_initialisation(self, X_train):\n",
    "        prob_line = 3.0\n",
    "        \n",
    "        gmm = GaussianMixture(n_components= self.number_components, covariance_type=\"diag\")\n",
    "        gmm.fit(X_train)\n",
    "#         sigma_prod = - np.log((2*np.pi/prob_line)*np.prod(gmm.covariances_, axis = 1))\n",
    "\n",
    "#         low = gmm.means_ - np.sqrt(2 * sigma_prod )* gmm.covariances_\n",
    "        \n",
    "#         upp = gmm.means_ + np.sqrt(2 * sigma_prod )* gmm.covariances_\n",
    "        low = gmm.means_ - np.sqrt(gmm.covariances_)\n",
    "        upp = gmm.means_ + 0.4*np.sqrt(gmm.covariances_)\n",
    "        \n",
    "        self.lower.assign(low.astype(np.float32))\n",
    "        self.upper.assign(upp.astype(np.float32))\n",
    "        self.mu.assign(gmm.means_.astype(np.float32))\n",
    "        \n",
    "        self.sigma.assign(gmm.covariances_.astype(np.float32))\n",
    "         \n",
    "        \n",
    "    def noverlap():\n",
    "        \n",
    "\n",
    "        centers = (1./2)*(model.lower + model.upper)\n",
    "        radii = tf.norm(model.upper - model.lower , axis= 1, keepdims=True)\n",
    "\n",
    "        r = tf.reduce_sum(centers*centers, 1)\n",
    "\n",
    "            # Turning r into vector\n",
    "        r = tf.reshape(r, [-1, 1])\n",
    "        D = r - 2*tf.matmul(centers, tf.transpose(centers)) + tf.transpose(r)\n",
    "        \n",
    "\n",
    "        penalty = tf.linalg.band_part((tf.transpose(radii) + radii)/(D + tf.eye(num_rows = D.shape[0])) \n",
    "                                       , num_lower= 0, num_upper = 1)\n",
    "\n",
    "            \n",
    "            \n",
    "        return tf.reduce_sum(penalty - tf.linalg.tensor_diag(tf.linalg.diag_part(penalty)))           \n",
    "    \n",
    "    \n",
    "    @tf.function\n",
    "    def normalizing_constant(self, way = \"independent\"):\n",
    "        if way == \"independent\":\n",
    "            # Reconstructing the independent variables\n",
    "            dict1 = ({(k, d): tfd.Normal(loc = self.mu[k,d], \n",
    "                 scale = np.finfo(np.float32).eps + tf.nn.softplus(self.sigma[k,d])) \n",
    "                 for d in range(self.M) for k in range(self.number_components)} )\n",
    "            \n",
    "            #Return \\int_{lower}^{upper} Normal(\\mu, \\Sigma) dx1 ... dxn   \n",
    "            return tf.reduce_prod(tf.stack([[dict1[(k,d)].cdf(self.upper[k,d]) - dict1[(k,d)].cdf(self.lower[k,\n",
    "                            d])+ self.stable for d in range(self.M) ] for k in range(self.number_components)]),\n",
    "                                axis = 1, keepdims = True) + self.stable \n",
    "\n",
    "        \n",
    "    @tf.function\n",
    "    def logistic (self, x):\n",
    "\n",
    "        return tf.sigmoid(tf.math.multiply(self.eta,x))\n",
    "    \n",
    "    def compute_pdf(self, x):\n",
    "        dist = tfd.Mixture(\n",
    "          cat = tfp.distributions.Categorical(logits = self.logits_k),\n",
    "        components = [tfd.Independent(tfd.Normal(loc = self.mu[i,:], \n",
    "                                              scale = np.finfo(np.float32).eps + tf.nn.softplus(self.sigma[i,:])),\n",
    "                              reinterpreted_batch_ndims=1) for i in range(self.number_components)\n",
    "          ])\n",
    "        \n",
    "        p_x_given_k = ( tf.transpose(tf.stack([dist.components[i].prob(x)  \n",
    "                        for i in range(self.number_components)])/self.normalizing_constant()) )\n",
    "        p_more_lower_given_x = tf.stack([x-tf.expand_dims(self.lower[i,:], \n",
    "                                                          axis=0) for i in range(self.number_components)])\n",
    "        #Shape [K x N x M]\n",
    "        p_less_upper_given_x = tf.stack([tf.expand_dims(self.upper[i,:], \n",
    "                                                        axis=0) - x for i in range(self.number_components)])\n",
    "\n",
    "        #         tf.print(self.eta*tf.reduce_mean(tf.multiply(tf.expand_dims(tf.transpose(responsabilities),\n",
    "#                                                                    -1), \n",
    "#                                                      tf.math.log(self.logistic(p_less_upper_given_x))), \n",
    "#                                                      axis =1))\n",
    "        \n",
    "        p_more_lower_given_x = tf.transpose(tf.reduce_prod(self.logistic(p_more_lower_given_x), axis = -1))\n",
    "        \n",
    "        p_less_upper_given_x = tf.transpose(tf.reduce_prod(self.logistic(p_less_upper_given_x), axis = -1))\n",
    "        \n",
    "        p_x_given_k_trunc = tf.multiply(p_x_given_k,p_less_upper_given_x)\n",
    "        \n",
    "\n",
    "        p_x_given_k_trunc = tf.multiply(p_x_given_k_trunc,p_more_lower_given_x)\n",
    "        \n",
    "        return tf.math.multiply( tf.expand_dims(tf.stack(dist._cat_probs(log_probs=False)), axis = 0),\n",
    "                                              p_x_given_k_trunc)\n",
    "        \n",
    "        \n",
    "        \n",
    "    @tf.function\n",
    "    def __call__(self, x, responsabilities):\n",
    "\n",
    "        dist = tfd.Mixture(\n",
    "          cat = tfp.distributions.Categorical(logits = self.logits_k),\n",
    "        components = [tfd.Independent(tfd.Normal(loc = self.mu[i,:], \n",
    "                                              scale = np.finfo(np.float32).eps + tf.nn.softplus(self.sigma[i,:])),\n",
    "                              reinterpreted_batch_ndims=1) for i in range(self.number_components)\n",
    "          ])\n",
    "        \n",
    "        \n",
    "        def debugging_gradients():\n",
    "            #Debugging gradients\n",
    "            dict1 = {(i,j): tfd.Normal(loc = self.mu[i,j], \n",
    "                     scale = np.finfo(np.float32).eps + tf.nn.softplus(self.sigma[i,\n",
    "                    j])) for i in range(self.number_components) for j in range(self.M)}\n",
    "\n",
    "            #Shape [K x M]\n",
    "            aug_ment_less = ( ( tf.stack([[dict1[(k,d)].prob(self.lower[k,d])\n",
    "                            /( dict1[(k,d)].cdf(self.upper[k,d]) - dict1[(k,d)].cdf(self.lower[k,d]) + self.stable) \n",
    "                            for d in range(self.M) ]  \n",
    "                         for k in range(self.number_components)]) ) )\n",
    "            aug_ment_up = ( ( tf.stack([[ dict1[(k,d)].prob(self.upper[k,d])\n",
    "                            /( dict1[(k,d)].cdf(self.upper[k,d]) - dict1[(k,d)].cdf(self.lower[k,d]) + self.stable) \n",
    "                            for d in range(self.M) ] \n",
    "                         for k in range(self.number_components)]) ) )\n",
    "\n",
    "\n",
    "    #         tf.print(- tf.reduce_sum(tf.math.log([[dict1[(k,d)].cdf(self.upper[k,d]) - \\\n",
    "    #                                                dict1[(k,d)].cdf(self.lower[k,d]) + self.stable \\\n",
    "    #                                                 for d in range(M) ] \\\n",
    "    #                      for k in range(self.number_components)]), axis = 1, keepdims = True)) \n",
    "            tf.print(aug_ment_less)\n",
    "            tf.print(aug_ment_up)\n",
    "            tf.print(aug_ment_less - aug_ment_up)\n",
    "            toto = (tf.expand_dims(x, axis = 1) - tf.expand_dims(self.mu,\n",
    "                                axis = 0))/(tf.expand_dims( tf.square(tf.nn.softplus(self.sigma) + self.stable),\n",
    "                                                        axis = 0))\n",
    "            tf.print(\"Mu \",  tf.reduce_mean(( - toto + tf.expand_dims(aug_ment_less - aug_ment_up, \n",
    "                                    axis = 0)) *  f.expand_dims(responsabilities, axis = -1),\n",
    "                                            axis = 0))\n",
    "#             tf.print(tf.reduce_mean(tf.multiply(tf.expand_dims(tf.transpose(responsabilities),\n",
    "#                                                                axis = -1), \n",
    "#                                         self.eta * (1 - self.logistic(p_more_lower_given_x)) + aug_ment_less), \n",
    "#                                                          axis = 1))\n",
    "\n",
    "\n",
    "\n",
    "        pik = tf.stack(dist._cat_probs(log_probs=False))\n",
    "        \n",
    "       \n",
    "        #Put to shape [M x K]\n",
    "        pik = tf.expand_dims(pik, axis=0)\n",
    "    \n",
    "        #Shape [K x N x M]\n",
    "        p_more_lower_given_x = tf.stack([x-tf.expand_dims(self.lower[i,:], \n",
    "                                                          axis=0) for i in range(self.number_components)])\n",
    "        #Shape [K x N x M]\n",
    "        p_less_upper_given_x = tf.stack([tf.expand_dims(self.upper[i,:], \n",
    "                                                        axis=0) - x for i in range(self.number_components)])\n",
    "\n",
    "        #         tf.print(self.eta*tf.reduce_mean(tf.multiply(tf.expand_dims(tf.transpose(responsabilities),\n",
    "#                                                                    -1), \n",
    "#                                                      tf.math.log(self.logistic(p_less_upper_given_x))), \n",
    "#                                                      axis =1))\n",
    "        \n",
    "        p_more_lower_given_x = tf.transpose(tf.reduce_prod(self.logistic(p_more_lower_given_x), axis = -1))\n",
    "        \n",
    "        p_less_upper_given_x = tf.transpose(tf.reduce_prod(self.logistic(p_less_upper_given_x), axis = -1))\n",
    "        \n",
    "        \n",
    "        \n",
    "\n",
    "        #debugging_gradients()\n",
    "\n",
    "        \n",
    "        \n",
    "       \n",
    "        #tf.print(self.eta*tf.reduce_mean(tf.multiply(responsabilities, p_less_upper_given_x), axis =1))\n",
    "    \n",
    "        p_x_given_k =  tf.math.multiply(pik,                                 \n",
    "                        tf.transpose(tf.stack([dist.components[i].prob(x)  for i in range(self.number_components)])/self.normalizing_constant())) \n",
    "\n",
    "        \n",
    "        p_x_given_k_trunc = tf.multiply(p_x_given_k,p_less_upper_given_x)\n",
    "        \n",
    "\n",
    "        p_x_given_k_trunc = tf.multiply(p_x_given_k_trunc,p_more_lower_given_x)\n",
    "        #------ Test        \n",
    "#         return  - tf.reduce_mean( tf.reduce_sum(tf.multiply(responsabilities, \n",
    "#                          tf.math.log(tf.clip_by_value(p_x_given_k_bis, 1e-10, 8.))), axis = 1))\n",
    "        #return - tf.reduce_sum(tf.math.log(self.normalizing_constant()))\n",
    "        #------ Fin Test\n",
    "        return  - tf.reduce_mean( tf.reduce_sum(tf.multiply(responsabilities, \n",
    "                        tf.math.log(tf.clip_by_value(p_x_given_k_trunc, 1e-10, 8.))), axis = 1)) #- 0.1*tf.reduce_sum(regul_mu) # + 0.01* noverlap() \n",
    "    \n",
    "\n",
    "    \n",
    "model = SoftTruncatedGaussianMixture(number_components = number_components, val_max = np.amax(X_train, axis = 0), \n",
    "                                     val_min = np.amin(X_train, axis = 0), seed= seed)\n",
    "model.gmm_initialisation(X_train)\n",
    "\n",
    "# plt.scatter(X_train[:,0], X_train[:,1], color=[color_map[i] for i in y_train])\n",
    "\n",
    "# plt.scatter(*model.mu.numpy().T, marker='^')\n",
    "# plt.show()\n",
    "#print(model.trainable_variables)\n",
    "\n",
    "optimizer = tf.optimizers.Adam(lr = 0.001)\n",
    "\n",
    "loss = 0.0\n",
    "\n",
    "@tf.function\n",
    "def train_step(data, responsabilities, eta):\n",
    "    model.eta.assign(eta)\n",
    "    with tf.GradientTape() as tape:\n",
    "        current_loss = model(data, responsabilities)\n",
    "    gradients = tape.gradient(current_loss, model.trainable_variables)\n",
    "    optimizer.apply_gradients(zip(gradients, model.trainable_variables))\n",
    "    \n",
    "    \n",
    "    return current_loss, responsabilities, gradients\n",
    "\n",
    "def compute_responsabilities(x, model):\n",
    "    def logistic(eta,x):\n",
    "        \n",
    "        return expit(eta*x)\n",
    "    \n",
    "    dist1 = tfd.Mixture(\n",
    "    cat = tfp.distributions.Categorical(logits = model.logits_k),\n",
    "          components = [ \n",
    "              tfd.Independent(tfd.Normal(loc = model.mu[i,:],\n",
    "                                         scale = np.finfo(np.float32).eps + tf.nn.softplus(model.sigma[i,:])),\n",
    "                              reinterpreted_batch_ndims = 1) for i in range(model.number_components)\n",
    "          ])\n",
    "        \n",
    "        \n",
    "    pi = dist1._cat_probs(log_probs=False)\n",
    "    pi = [pro.numpy() for pro in pi]\n",
    "        \n",
    "    pi = np.expand_dims(pi, axis=0)\n",
    "    \n",
    "    \n",
    "    \n",
    "    p_more_lower_given_x = np.stack([x-np.expand_dims(model.lower[i,:].numpy(), \n",
    "                                                      axis=0) for i in range(model.number_components)])\n",
    "\n",
    "\n",
    "    p_more_lower_given_x = np.transpose(np.prod(logistic(model.eta.numpy(),p_more_lower_given_x), axis = -1))\n",
    "    \n",
    "    p_less_upper_given_x = np.stack([np.expand_dims(model.upper[i,:].numpy(), \n",
    "                                                    axis=0) - x for i in range(model.number_components)])\n",
    "    #print(p_less_upper_given_x)\n",
    "    p_less_upper_given_x = np.transpose(np.prod(logistic(model.eta.numpy(),p_less_upper_given_x), axis = -1))\n",
    "\n",
    "    \n",
    "    \n",
    "    \n",
    "    p_x_given_k =( np.multiply(pi,\n",
    "                    np.transpose(np.stack([dist1.components[i].prob(x).numpy()\n",
    "                                    for i in range(model.number_components)]) \n",
    "                                 / model.normalizing_constant().numpy())) )\n",
    "#     print(model.lower)\n",
    "#     print(model.upper)\n",
    "    \n",
    "#     print(p_x_given_k[0:10])\n",
    "#     print(p_less_upper_given_x[0:10])\n",
    "#     print(x[0:10])\n",
    "        \n",
    "    p_x_given_k_trunc = np.multiply(p_x_given_k,p_less_upper_given_x)\n",
    "    \n",
    "\n",
    "      \n",
    "    p_x_given_k_trunc = np.multiply(p_x_given_k_trunc,p_more_lower_given_x)\n",
    "    \n",
    "\n",
    "    responsabilities = np.clip(p_x_given_k_trunc, 1e-8, 8)\n",
    "    \n",
    "    #print(responsabilities)\n",
    "\n",
    "    responsabilities = softmax(np.log(responsabilities), axis = 1)\n",
    "    \n",
    "    \n",
    "    return responsabilities\n",
    "\n",
    "lloss= {}\n",
    "eta = 20\n",
    "        \n",
    "for i in range(100):\n",
    "    #Expectation step\n",
    "    directory = f\"images_sTMVN/datasets/{dataset_name}/{type_eta}\"\n",
    "        \n",
    "    if type_eta == \"eta_constant\":\n",
    "            directory = f\"{directory}/{value}_{eta}\"\n",
    "    else:\n",
    "        eta = (0.5)*np.sqrt(i) + 10\n",
    "        \n",
    "    if not os.path.exists(directory):\n",
    "        os.makedirs(directory)\n",
    "    filename = f\"{directory}/image\" \n",
    "    #print(probs_x_given_k.shape)\n",
    "    responsabilities = compute_responsabilities(X_train, model)\n",
    "    plot_hyperrectangles(X_train, y_train, 0, 1, model.lower.numpy(), model.upper.numpy(), \n",
    "                         nb_hyperrectangles = model.number_components, \n",
    "                         file_name = f\"{filename}_rectangles_{i}.png\", \n",
    "                         color_map = color_map, mu = model.mu.numpy())\n",
    "    plot_pdfR(X_train[:,0], X_train[:,1], f\"{filename}_density_{i}.png\", model, color_map)\n",
    "    #print(responsabilities)\n",
    "    #print(pi, probs_x_given_k)\n",
    "    \n",
    "    #Maximization\n",
    "    lloss[i] = []\n",
    "\n",
    "    for j in range(100):\n",
    "        \n",
    "        loss, resp, grad = train_step(data = X_train, responsabilities = responsabilities, eta = eta)\n",
    "        #print(model.trainable_variables)\n",
    "        #print(grad)\n",
    "        loss, resp = loss.numpy(), resp.numpy() \n",
    "        lloss[i].append(loss)\n",
    "        #print(grad)\n",
    "    save_loss.append(loss)\n",
    "    #f = model.compute_pdf(X_train)\n",
    "    #plot_pdf(X_train[:,0], X_train[:,1], f, f\"images_sTMVN/image_{i}\")"
   ]
  },
  {
   "cell_type": "code",
   "execution_count": 82,
   "metadata": {},
   "outputs": [
    {
     "data": {
      "text/plain": [
       "<tf.Variable 'sigma:0' shape=(2, 30) dtype=float32, numpy=\n",
       "array([[0.25594, 0.88772, 0.23457, 0.14995, 0.89685, 0.27101, 0.12916,\n",
       "        0.1396 , 0.7737 , 0.59563, 0.14451, 1.22161, 0.12805, 0.03193,\n",
       "        0.84337, 0.34434, 0.31724, 0.47961, 0.6516 , 0.34536, 0.17201,\n",
       "        0.88134, 0.16092, 0.08417, 0.80861, 0.23795, 0.24725, 0.29227,\n",
       "        0.50867, 0.31513],\n",
       "       [1.04162, 0.87111, 1.00447, 1.24469, 0.78978, 0.88952, 0.8172 ,\n",
       "        0.76971, 0.94998, 1.63899, 1.48036, 0.59406, 1.4992 , 1.81133,\n",
       "        1.27368, 1.30818, 1.47184, 0.99384, 1.598  , 1.75721, 1.05863,\n",
       "        0.85586, 1.02137, 1.33951, 0.92202, 1.10576, 0.8824 , 0.58963,\n",
       "        1.39895, 1.63282]], dtype=float32)>"
      ]
     },
     "execution_count": 82,
     "metadata": {},
     "output_type": "execute_result"
    }
   ],
   "source": [
    "model.sigma"
   ]
  },
  {
   "cell_type": "code",
   "execution_count": 83,
   "metadata": {},
   "outputs": [],
   "source": [
    "gmm = GaussianMixture().fit(X_train)"
   ]
  },
  {
   "cell_type": "code",
   "execution_count": 86,
   "metadata": {},
   "outputs": [
    {
     "data": {
      "text/plain": [
       "(1, 30, 30)"
      ]
     },
     "execution_count": 86,
     "metadata": {},
     "output_type": "execute_result"
    }
   ],
   "source": [
    "gmm.covariances_.shape"
   ]
  },
  {
   "cell_type": "code",
   "execution_count": 64,
   "metadata": {},
   "outputs": [
    {
     "data": {
      "text/plain": [
       "<tf.Variable 'upper:0' shape=(2, 2) dtype=float32, numpy=\n",
       "array([[ 1.61537, -0.02308],\n",
       "       [ 1.98072,  1.67   ]], dtype=float32)>"
      ]
     },
     "execution_count": 64,
     "metadata": {},
     "output_type": "execute_result"
    }
   ],
   "source": [
    "model.upper"
   ]
  },
  {
   "cell_type": "code",
   "execution_count": 65,
   "metadata": {},
   "outputs": [
    {
     "data": {
      "text/plain": [
       "<tf.Variable 'Variable:0' shape=() dtype=float32, numpy=20.0>"
      ]
     },
     "execution_count": 65,
     "metadata": {},
     "output_type": "execute_result"
    }
   ],
   "source": [
    "model.eta"
   ]
  },
  {
   "cell_type": "code",
   "execution_count": 7,
   "metadata": {},
   "outputs": [
    {
     "data": {
      "text/plain": [
       "<tf.Variable 'lower:0' shape=(2, 2) dtype=float32, numpy=\n",
       "array([[ 2.2911 , -0.61729],\n",
       "       [-2.70448, -0.90566]], dtype=float32)>"
      ]
     },
     "execution_count": 7,
     "metadata": {},
     "output_type": "execute_result"
    }
   ],
   "source": [
    "model.lower"
   ]
  },
  {
   "cell_type": "code",
   "execution_count": 8,
   "metadata": {},
   "outputs": [
    {
     "data": {
      "text/plain": [
       "<tf.Variable 'upper:0' shape=(2, 2) dtype=float32, numpy=\n",
       "array([[ 2.74613, -0.71572],\n",
       "       [-2.77855, -0.38273]], dtype=float32)>"
      ]
     },
     "execution_count": 8,
     "metadata": {},
     "output_type": "execute_result"
    }
   ],
   "source": [
    "model.upper"
   ]
  },
  {
   "cell_type": "code",
   "execution_count": 37,
   "metadata": {},
   "outputs": [
    {
     "name": "stdout",
     "output_type": "stream",
     "text": [
      "(100, 100)\n"
     ]
    }
   ],
   "source": [
    "x = X_train[:, 0]\n",
    "y = X_train[:, 1]\n",
    "# Define the borders\n",
    "deltaX = (max(x) - min(x))/10\n",
    "deltaY = (max(y) - min(y))/10\n",
    "xmin = min(x) - deltaX\n",
    "xmax = max(x) + deltaX\n",
    "ymin = min(y) - deltaY\n",
    "ymax = max(y) + deltaY\n",
    "\n",
    "# Create meshgrid\n",
    "xx, yy = np.mgrid[xmin:xmax:100j, ymin:ymax:100j]\n",
    "positions = np.vstack([xx.ravel(), yy.ravel()])\n",
    "\n",
    "print(xx.shape)\n",
    "values = np.vstack([x, y])\n",
    "predictions = model.compute_pdf(positions.T).numpy()\n",
    "pred1 = predictions[:,0]\n",
    "pred2 = predictions[:,1]\n",
    "f1 = np.reshape(pred1.T, xx.shape)\n",
    "f2 = np.reshape(pred2.T, xx.shape)\n"
   ]
  },
  {
   "cell_type": "code",
   "execution_count": 38,
   "metadata": {},
   "outputs": [
    {
     "data": {
      "image/png": "[encoded data removed]",
      "text/plain": [
       "<Figure size 720x720 with 1 Axes>"
      ]
     },
     "metadata": {
      "needs_background": "light"
     },
     "output_type": "display_data"
    }
   ],
   "source": [
    "alpha = softmax(model.logits_k.numpy())\n",
    "fig = plt.figure(figsize=(10,10))\n",
    "ax = fig.gca()\n",
    "ax.set_xlim(xmin, xmax)\n",
    "ax.set_ylim(ymin, ymax)\n",
    "cfset = ax.contourf(xx, yy, f1, cmap='BuGn', alpha = alpha[0])\n",
    "# ax.imshow(np.rot90(f1), cmap='BuGn', extent=[xmin, xmax, ymin, ymax])\n",
    "cset1 = ax.contour(xx, yy, f1, colors='k')\n",
    "ax.clabel(cset1, inline=1, fontsize=10)\n",
    "\n",
    "cfset = ax.contourf(xx, yy, f2, cmap='BuGn', alpha = alpha[1])\n",
    "cset = ax.contour(xx, yy, f2, colors='k')\n",
    "ax.clabel(cset, inline=1, fontsize=10)\n",
    "currentAxis = plt.gca()\n",
    "currentAxis = plt.gca()\n",
    "x_axis = 0\n",
    "y_axis = 1\n",
    "for i in range(2):\n",
    "    low = model.lower.numpy()[i]\n",
    "    upp = model.upper.numpy()[i]\n",
    "    currentAxis.add_patch(Rectangle((low[x_axis], low[y_axis]), upp[x_axis]-low[x_axis], upp[y_axis]-low[y_axis], fill=None,\n",
    "                                    edgecolor=color_map[i], alpha=1))\n",
    "    plt.scatter(*model.mu.numpy()[i,[x_axis, y_axis]], marker='^')\n",
    "\n",
    "#plt.scatter(X_train[:,x_axis], X_train[:,y_axis], color=[color_map[i] for i in y_train])\n",
    "#ax.imshow(np.rot90(f2), cmap='BuGn', extent=[xmin, xmax, ymin, ymax])\n"
   ]
  },
  {
   "cell_type": "code",
   "execution_count": 41,
   "metadata": {},
   "outputs": [
    {
     "data": {
      "text/plain": [
       "array([[2.15482e-15, 2.05760e-01],\n",
       "       [6.51050e+01, 5.76164e-06],\n",
       "       [4.52911e+01, 2.17391e-05],\n",
       "       [4.72271e-10, 9.54920e-02],\n",
       "       [8.08745e+00, 1.83341e-08],\n",
       "       [1.49414e-05, 3.30812e-02],\n",
       "       [6.83564e-34, 3.31984e-02],\n",
       "       [6.09735e+01, 1.33263e-06],\n",
       "       [3.18223e+00, 1.10864e-05],\n",
       "       [2.32406e-15, 4.99370e-02],\n",
       "       [2.25999e-11, 5.89202e-02],\n",
       "       [2.26358e-25, 2.41767e-01],\n",
       "       [6.51305e+01, 8.98243e-06],\n",
       "       [6.66755e+00, 1.19248e-04],\n",
       "       [8.13521e+00, 3.08210e-04],\n",
       "       [7.50130e-20, 1.57578e-01],\n",
       "       [3.84439e+01, 8.98986e-05],\n",
       "       [2.64549e-35, 1.32903e-02],\n",
       "       [1.30015e-10, 1.35926e-01],\n",
       "       [3.58000e+01, 9.77832e-07],\n",
       "       [2.35240e+01, 1.13022e-04],\n",
       "       [5.73079e+00, 9.14734e-04],\n",
       "       [3.25035e-02, 2.77493e-02],\n",
       "       [1.75051e-14, 1.00827e-01],\n",
       "       [5.31741e+00, 2.90189e-04],\n",
       "       [2.87296e+01, 3.89819e-07],\n",
       "       [1.66940e-11, 1.48312e-01],\n",
       "       [2.76230e-01, 1.04299e-09],\n",
       "       [2.36312e-14, 1.79825e-01],\n",
       "       [3.13833e+01, 1.16907e-07],\n",
       "       [2.76779e+01, 2.48345e-05],\n",
       "       [3.37677e+01, 8.09312e-05],\n",
       "       [1.98031e+01, 1.47915e-04],\n",
       "       [3.50041e-17, 1.95021e-01],\n",
       "       [1.09281e-02, 1.69658e-02],\n",
       "       [2.90336e+01, 7.39117e-06],\n",
       "       [1.68829e-21, 2.16942e-01],\n",
       "       [9.51587e-22, 2.45888e-01],\n",
       "       [1.71222e-07, 9.69761e-02],\n",
       "       [7.32025e-24, 2.82442e-01],\n",
       "       [2.09210e-24, 1.93078e-01],\n",
       "       [5.61491e-01, 6.08170e-03],\n",
       "       [2.00519e+01, 2.91138e-04],\n",
       "       [2.26661e+01, 6.62360e-08],\n",
       "       [1.29157e-28, 1.13689e-01],\n",
       "       [6.87042e-07, 7.64045e-02],\n",
       "       [8.09123e+00, 5.34577e-04],\n",
       "       [4.04673e-23, 2.90114e-01],\n",
       "       [8.63074e-12, 1.18479e-01],\n",
       "       [5.50066e-01, 4.45525e-09],\n",
       "       [1.89053e-32, 5.14279e-02],\n",
       "       [1.41042e-07, 9.84076e-02],\n",
       "       [2.53994e-13, 1.47995e-01],\n",
       "       [8.63414e+00, 8.82226e-08],\n",
       "       [6.11375e-15, 1.40997e-01],\n",
       "       [5.89924e+01, 5.85489e-07],\n",
       "       [2.17393e-19, 2.65547e-01],\n",
       "       [6.94696e+01, 1.60178e-05],\n",
       "       [7.75763e+01, 8.73164e-06],\n",
       "       [8.09971e+01, 5.06354e-06],\n",
       "       [8.88734e-25, 2.01512e-01],\n",
       "       [3.21856e+01, 1.31308e-04],\n",
       "       [1.68668e-01, 1.37905e-09],\n",
       "       [4.46740e-20, 2.55937e-01],\n",
       "       [3.55402e-05, 6.95290e-02],\n",
       "       [3.96873e-25, 2.54106e-01],\n",
       "       [2.62708e-04, 5.49991e-02],\n",
       "       [2.82988e-18, 7.17250e-02],\n",
       "       [3.52521e+01, 2.59944e-07],\n",
       "       [5.87014e+00, 1.89433e-08],\n",
       "       [6.96706e+01, 1.38541e-06],\n",
       "       [8.38812e-22, 2.76317e-01],\n",
       "       [2.72580e+01, 1.88878e-08],\n",
       "       [8.27975e-01, 2.79181e-03],\n",
       "       [5.42705e+00, 1.72254e-08]], dtype=float32)"
      ]
     },
     "execution_count": 41,
     "metadata": {},
     "output_type": "execute_result"
    }
   ],
   "source": [
    "model.compute_pdf(X_train).numpy()"
   ]
  },
  {
   "cell_type": "code",
   "execution_count": 12,
   "metadata": {},
   "outputs": [
    {
     "data": {
      "text/plain": [
       "array([0.85634, 0.14366], dtype=float32)"
      ]
     },
     "execution_count": 12,
     "metadata": {},
     "output_type": "execute_result"
    }
   ],
   "source": [
    "softmax(model.logits_k.numpy())"
   ]
  },
  {
   "cell_type": "code",
   "execution_count": 50,
   "metadata": {},
   "outputs": [],
   "source": [
    "x = [[0,1]]"
   ]
  },
  {
   "cell_type": "code",
   "execution_count": 51,
   "metadata": {},
   "outputs": [
    {
     "data": {
      "text/plain": [
       "<tf.Tensor: shape=(1, 2), dtype=float32, numpy=array([[8.74481e+04, 1.01888e-02]], dtype=float32)>"
      ]
     },
     "execution_count": 51,
     "metadata": {},
     "output_type": "execute_result"
    }
   ],
   "source": [
    "dist = tfd.Mixture(\n",
    "          cat = tfp.distributions.Categorical(logits = model.logits_k),\n",
    "        components = [tfd.Independent(tfd.Normal(loc = model.mu[i,:], \n",
    "                                              scale = np.finfo(np.float32).eps + tf.nn.softplus(model.sigma[i,:])),\n",
    "                              reinterpreted_batch_ndims=1) for i in range(model.number_components)\n",
    "          ])\n",
    "        \n",
    "p_x_given_k = tf.transpose(tf.stack([dist.components[i].prob(x)  \\\n",
    "                        for i in range(model.number_components)])/model.normalizing_constant())\n",
    "\n",
    "p_x_given_k"
   ]
  },
  {
   "cell_type": "code",
   "execution_count": 61,
   "metadata": {},
   "outputs": [
    {
     "name": "stdout",
     "output_type": "stream",
     "text": [
      "tf.Tensor([[0.00334 1.     ]], shape=(1, 2), dtype=float32)\n",
      "tf.Tensor([[9.99999e-01 2.58335e-04]], shape=(1, 2), dtype=float32)\n",
      "tf.Tensor([[8.74481e+04 1.01888e-02]], shape=(1, 2), dtype=float32)\n"
     ]
    },
    {
     "data": {
      "text/plain": [
       "<tf.Tensor: shape=(1, 2), dtype=float32, numpy=array([[7.49665e+01, 1.95659e-06]], dtype=float32)>"
      ]
     },
     "execution_count": 61,
     "metadata": {},
     "output_type": "execute_result"
    }
   ],
   "source": [
    "p_more_lower_given_x = tf.stack([x-tf.expand_dims(model.lower[i,:], \n",
    "                                                          axis=0) for i in range(model.number_components)])\n",
    "        #Shape [K x N x M]\n",
    "p_less_upper_given_x = tf.stack([tf.expand_dims(model.upper[i,:], \n",
    "                                                        axis=0) - x for i in range(model.number_components)])\n",
    "\n",
    "        #         tf.print(self.eta*tf.reduce_mean(tf.multiply(tf.expand_dims(tf.transpose(responsabilities),\n",
    "#                                                                    -1), \n",
    "#                                                      tf.math.log(self.logistic(p_less_upper_given_x))), \n",
    "#                                                      axis =1))\n",
    "      \n",
    "p_more_lower_given_x = tf.transpose(tf.reduce_prod(model.logistic(p_more_lower_given_x), axis = -1))\n",
    "        \n",
    "p_less_upper_given_x = tf.transpose(tf.reduce_prod(model.logistic(p_less_upper_given_x), axis = -1))\n",
    "print(p_more_lower_given_x)\n",
    "print(p_less_upper_given_x)\n",
    "print(p_x_given_k)\n",
    "p_x_given_k_trunc = tf.multiply(p_x_given_k,p_less_upper_given_x)\n",
    "        \n",
    "\n",
    "p_x_given_k_trunc = tf.multiply(p_x_given_k_trunc,p_more_lower_given_x)\n",
    "        \n",
    "tf.math.multiply( tf.expand_dims(tf.stack(dist._cat_probs(log_probs=False)), axis = 0),\n",
    "                                              p_x_given_k_trunc)"
   ]
  },
  {
   "cell_type": "code",
   "execution_count": 13,
   "metadata": {},
   "outputs": [
    {
     "ename": "NameError",
     "evalue": "name 'gmm' is not defined",
     "output_type": "error",
     "traceback": [
      "\u001b[0;31m---------------------------------------------------------------------------\u001b[0m",
      "\u001b[0;31mNameError\u001b[0m                                 Traceback (most recent call last)",
      "\u001b[0;32m<ipython-input-13-bc87b48c2a25>\u001b[0m in \u001b[0;36m<module>\u001b[0;34m\u001b[0m\n\u001b[1;32m      1\u001b[0m \u001b[0mprob_line\u001b[0m\u001b[0;34m=\u001b[0m \u001b[0;36m2\u001b[0m\u001b[0;34m\u001b[0m\u001b[0;34m\u001b[0m\u001b[0m\n\u001b[0;32m----> 2\u001b[0;31m \u001b[0msigma_prod\u001b[0m \u001b[0;34m=\u001b[0m \u001b[0;34m-\u001b[0m \u001b[0mnp\u001b[0m\u001b[0;34m.\u001b[0m\u001b[0mlog\u001b[0m\u001b[0;34m(\u001b[0m\u001b[0;34m(\u001b[0m\u001b[0;36m2\u001b[0m\u001b[0;34m*\u001b[0m\u001b[0mnp\u001b[0m\u001b[0;34m.\u001b[0m\u001b[0mpi\u001b[0m\u001b[0;34m/\u001b[0m\u001b[0mprob_line\u001b[0m\u001b[0;34m)\u001b[0m\u001b[0;34m*\u001b[0m\u001b[0mnp\u001b[0m\u001b[0;34m.\u001b[0m\u001b[0mprod\u001b[0m\u001b[0;34m(\u001b[0m\u001b[0mgmm\u001b[0m\u001b[0;34m.\u001b[0m\u001b[0mcovariances_\u001b[0m\u001b[0;34m,\u001b[0m \u001b[0maxis\u001b[0m \u001b[0;34m=\u001b[0m \u001b[0;36m1\u001b[0m\u001b[0;34m)\u001b[0m\u001b[0;34m)\u001b[0m\u001b[0;34m\u001b[0m\u001b[0;34m\u001b[0m\u001b[0m\n\u001b[0m\u001b[1;32m      3\u001b[0m \u001b[0;34m\u001b[0m\u001b[0m\n\u001b[1;32m      4\u001b[0m \u001b[0mlower\u001b[0m \u001b[0;34m=\u001b[0m \u001b[0mgmm\u001b[0m\u001b[0;34m.\u001b[0m\u001b[0mmeans_\u001b[0m \u001b[0;34m-\u001b[0m \u001b[0mnp\u001b[0m\u001b[0;34m.\u001b[0m\u001b[0msqrt\u001b[0m\u001b[0;34m(\u001b[0m\u001b[0;36m2\u001b[0m \u001b[0;34m*\u001b[0m \u001b[0msigma_prod\u001b[0m \u001b[0;34m)\u001b[0m\u001b[0;34m*\u001b[0m \u001b[0mgmm\u001b[0m\u001b[0;34m.\u001b[0m\u001b[0mcovariances_\u001b[0m\u001b[0;34m\u001b[0m\u001b[0;34m\u001b[0m\u001b[0m\n\u001b[1;32m      5\u001b[0m \u001b[0mupper\u001b[0m \u001b[0;34m=\u001b[0m \u001b[0mgmm\u001b[0m\u001b[0;34m.\u001b[0m\u001b[0mmeans_\u001b[0m \u001b[0;34m+\u001b[0m \u001b[0mnp\u001b[0m\u001b[0;34m.\u001b[0m\u001b[0msqrt\u001b[0m\u001b[0;34m(\u001b[0m\u001b[0;36m2\u001b[0m \u001b[0;34m*\u001b[0m \u001b[0msigma_prod\u001b[0m \u001b[0;34m)\u001b[0m\u001b[0;34m*\u001b[0m \u001b[0mgmm\u001b[0m\u001b[0;34m.\u001b[0m\u001b[0mcovariances_\u001b[0m\u001b[0;34m\u001b[0m\u001b[0;34m\u001b[0m\u001b[0m\n",
      "\u001b[0;31mNameError\u001b[0m: name 'gmm' is not defined"
     ]
    }
   ],
   "source": [
    "prob_line= 2\n",
    "sigma_prod = - np.log((2*np.pi/prob_line)*np.prod(gmm.covariances_, axis = 1))\n",
    "\n",
    "lower = gmm.means_ - np.sqrt(2 * sigma_prod )* gmm.covariances_\n",
    "upper = gmm.means_ + np.sqrt(2 * sigma_prod )* gmm.covariances_\n",
    "plot_hyperrectangles(X_train, y_train, 0, 1, lower, upper, \n",
    "                         nb_hyperrectangles = 2, file_name = f\"images_sTMVN/toto.png\", \n",
    "                         color_map = color_map, mu = gmm.means_)"
   ]
  },
  {
   "cell_type": "code",
   "execution_count": null,
   "metadata": {},
   "outputs": [],
   "source": [
    "sigma_prod = - np.log(np.prod(np.pi*gmm.covariances_)))"
   ]
  },
  {
   "cell_type": "code",
   "execution_count": 30,
   "metadata": {},
   "outputs": [
    {
     "data": {
      "text/plain": [
       "<tf.Variable 'lower:0' shape=(2, 2) dtype=float32, numpy=\n",
       "array([[-1.99291,  1.57379],\n",
       "       [-1.95009, -0.23421]], dtype=float32)>"
      ]
     },
     "execution_count": 30,
     "metadata": {},
     "output_type": "execute_result"
    }
   ],
   "source": [
    "model.lower"
   ]
  },
  {
   "cell_type": "code",
   "execution_count": 59,
   "metadata": {},
   "outputs": [
    {
     "data": {
      "text/plain": [
       "<tf.Variable 'upper:0' shape=(2, 2) dtype=float32, numpy=\n",
       "array([[2.17588, 2.3765 ],\n",
       "       [1.65496, 0.1739 ]], dtype=float32)>"
      ]
     },
     "execution_count": 59,
     "metadata": {},
     "output_type": "execute_result"
    }
   ],
   "source": [
    "model.upper"
   ]
  },
  {
   "cell_type": "code",
   "execution_count": 58,
   "metadata": {},
   "outputs": [
    {
     "data": {
      "text/plain": [
       "<tf.Tensor: shape=(2, 2), dtype=float32, numpy=\n",
       "array([[1.00000e+00, 9.99999e-01],\n",
       "       [1.00000e+00, 2.58335e-04]], dtype=float32)>"
      ]
     },
     "execution_count": 58,
     "metadata": {},
     "output_type": "execute_result"
    }
   ],
   "source": [
    "tf.sigmoid(tf.math.multiply(model.eta,model.upper - x))"
   ]
  },
  {
   "cell_type": "code",
   "execution_count": null,
   "metadata": {},
   "outputs": [],
   "source": [
    "np.pi*np.prod(np.sqrt(gmm.covariances_))"
   ]
  },
  {
   "cell_type": "code",
   "execution_count": null,
   "metadata": {},
   "outputs": [],
   "source": [
    "sigma_prod = - np.log(np.pi*np.prod(np.sqrt(gmm.covariances_)))\n",
    "sigma_prod"
   ]
  },
  {
   "cell_type": "code",
   "execution_count": null,
   "metadata": {},
   "outputs": [],
   "source": [
    "fig = plt.figure(figsize=(8,8))\n",
    "ax = fig.gca()\n",
    "ax.set_xlim(xmin, xmax)\n",
    "ax.set_ylim(ymin, ymax)\n",
    "cfset = ax.contourf(xx, yy, f2, cmap='Purples', alpha = 0.5)\n",
    "cset = ax.contour(xx, yy, f2, colors='k')\n",
    "#ax.imshow(np.rot90(f2), cmap='viridis', extent=[xmin, xmax, ymin, ymax])\n",
    "ax.clabel(cset, inline=1, fontsize=10)\n",
    "ax.set_xlabel('X')\n",
    "ax.set_ylabel('Y')\n",
    "plt.title('2D Gaussian Kernel density estimation')"
   ]
  },
  {
   "cell_type": "code",
   "execution_count": null,
   "metadata": {},
   "outputs": [],
   "source": [
    "dist = tfd.Mixture(\n",
    "          cat = tfp.distributions.Categorical(logits = model.logits_k),\n",
    "        components = [tfd.Independent(tfd.Normal(loc = self.mu[i,:], \n",
    "                                              scale = np.finfo(np.float32).eps + tf.nn.softplus(self.sigma[i,:])),\n",
    "                              reinterpreted_batch_ndims=1) for i in range(self.number_components)\n",
    "          ])\n",
    "        \n",
    "p_x_given_k = tf.transpose(tf.stack([dist.components[i].prob(x)  \\\n",
    "                        for i in range(self.number_components)])/self.normalizing_constant())\n",
    "        p_more_lower_given_x = tf.stack([x-tf.expand_dims(self.lower[i,:], \n",
    "                                                          axis=0) for i in range(self.number_components)])\n",
    "        #Shape [K x N x M]\n",
    "        p_less_upper_given_x = tf.stack([tf.expand_dims(self.upper[i,:], \n",
    "                                                        axis=0) - x for i in range(self.number_components)])\n",
    "\n",
    "        #         tf.print(self.eta*tf.reduce_mean(tf.multiply(tf.expand_dims(tf.transpose(responsabilities),\n",
    "#                                                                    -1), \n",
    "#                                                      tf.math.log(self.logistic(p_less_upper_given_x))), \n",
    "#                                                      axis =1))\n",
    "        \n"
   ]
  },
  {
   "cell_type": "code",
   "execution_count": null,
   "metadata": {},
   "outputs": [],
   "source": [
    "model.lower"
   ]
  },
  {
   "cell_type": "code",
   "execution_count": null,
   "metadata": {},
   "outputs": [],
   "source": [
    "model.upper"
   ]
  },
  {
   "cell_type": "code",
   "execution_count": null,
   "metadata": {},
   "outputs": [],
   "source": [
    "kernel"
   ]
  },
  {
   "cell_type": "code",
   "execution_count": null,
   "metadata": {},
   "outputs": [],
   "source": [
    "N = 60\n",
    "X = np.linspace(-3, 3, N)\n",
    "Y = np.linspace(-3, 3, N)\n",
    "print(X.shape, Y.shape)\n",
    "X, Y = np.meshgrid(X, Y)\n",
    "\n",
    "\n",
    "# Mean vector and covariance matrix\n",
    "mu = np.array([0., 1.])\n",
    "Sigma = np.array([[ 1. , -0.5], [-0.5,  1.5]])\n",
    "\n",
    "# Pack X and Y into a single 3-dimensional array\n",
    "pos = np.empty(X.shape + (2,))\n",
    "pos[:, :, 0] = X\n",
    "pos[:, :, 1] = Y\n",
    "\n",
    "def multivariate_gaussian(pos, mu, Sigma):\n",
    "    \"\"\"Return the multivariate Gaussian distribution on array pos.\n",
    "\n",
    "    pos is an array constructed by packing the meshed arrays of variables\n",
    "    x_1, x_2, x_3, ..., x_k into its _last_ dimension.\n",
    "\n",
    "    \"\"\"\n",
    "    print(pos.shape)\n",
    "    n = mu.shape[0]\n",
    "    Sigma_det = np.linalg.det(Sigma)\n",
    "    Sigma_inv = np.linalg.inv(Sigma)\n",
    "    N = np.sqrt((2*np.pi)**n * Sigma_det)\n",
    "    # This einsum call calculates (x-mu)T.Sigma-1.(x-mu) in a vectorized\n",
    "    # way across all the input variables.\n",
    "    fac = np.einsum('...k,kl,...l->...', pos-mu, Sigma_inv, pos-mu)\n",
    "    print(fac.shape)\n",
    "\n",
    "    return np.exp(-fac / 2) / N\n",
    "\n",
    "# The distribution on the variables X, Y packed into pos.\n",
    "Z = multivariate_gaussian(pos, mu, Sigma)\n",
    "\n",
    "# Create a surface plot and projected filled contour plot under it.\n",
    "fig = plt.figure()\n",
    "ax = fig.gca(projection='3d')\n",
    "# ax.plot_surface(X, Y, Z, rstride=3, cstride=3, linewidth=1, antialiased=True,\n",
    "#                 cmap=cm.viridis)\n",
    "\n",
    "cset = ax.contourf(X, Y, Z, zdir='z', offset=-0.15, cmap=cm.viridis)\n",
    "\n",
    "# Adjust the limits, ticks and view angle\n",
    "ax.set_zlim(-0.15,0.2)\n",
    "ax.set_zticks(np.linspace(0,0.2,5))\n",
    "ax.view_init(27, -21)\n",
    "\n",
    "plt.show()"
   ]
  },
  {
   "cell_type": "code",
   "execution_count": null,
   "metadata": {},
   "outputs": [],
   "source": [
    "positions.T.shape"
   ]
  },
  {
   "cell_type": "code",
   "execution_count": null,
   "metadata": {},
   "outputs": [],
   "source": [
    "Z[0:3,0:3]"
   ]
  },
  {
   "cell_type": "code",
   "execution_count": null,
   "metadata": {},
   "outputs": [],
   "source": [
    "model.logits_k"
   ]
  },
  {
   "cell_type": "code",
   "execution_count": null,
   "metadata": {},
   "outputs": [],
   "source": [
    "loss\n"
   ]
  },
  {
   "cell_type": "code",
   "execution_count": null,
   "metadata": {},
   "outputs": [],
   "source": [
    "kernel(positions).shape"
   ]
  },
  {
   "cell_type": "code",
   "execution_count": null,
   "metadata": {},
   "outputs": [],
   "source": [
    "dict1 = {(i,j): tfd.Normal(loc = model.mu[i,j], \n",
    "                 scale = np.finfo(np.float32).eps + tf.nn.softplus(model.sigma[i,j])) \\\n",
    "                 for i in range(model.number_components) for j in range(M)}"
   ]
  },
  {
   "cell_type": "code",
   "execution_count": null,
   "metadata": {},
   "outputs": [],
   "source": [
    " dist1 = tfd.Mixture(\n",
    "    cat = tfp.distributions.Categorical(logits = model.logits_k),\n",
    "          components = [ \n",
    "              tfd.Independent(tfd.Normal(loc = model.mu[i,:],\n",
    "                                         scale = np.finfo(np.float32).eps + tf.nn.softplus(model.sigma[i,:])),\n",
    "                              reinterpreted_batch_ndims = 1) for i in range(model.number_components)\n",
    "          ])"
   ]
  },
  {
   "cell_type": "code",
   "execution_count": null,
   "metadata": {},
   "outputs": [],
   "source": [
    "d1 = dist1.components"
   ]
  },
  {
   "cell_type": "code",
   "execution_count": null,
   "metadata": {},
   "outputs": [],
   "source": [
    "d1.cdf(model.upper[0]) #- d1.cdf(model.lower[0])"
   ]
  },
  {
   "cell_type": "code",
   "execution_count": null,
   "metadata": {},
   "outputs": [],
   "source": [
    "(dict1[(1,0)].cdf(model.upper[1,0]) - dict1[(1,0)].cdf(model.lower[1,0])) * (dict1[(1,1)].cdf(model.upper[1,1]) - dict1[(1,1)].cdf(model.lower[1,1])) "
   ]
  },
  {
   "cell_type": "code",
   "execution_count": null,
   "metadata": {},
   "outputs": [],
   "source": [
    "d1.mean()"
   ]
  },
  {
   "cell_type": "code",
   "execution_count": null,
   "metadata": {},
   "outputs": [],
   "source": [
    "print(dict1[(0,0)].mean(), dict1[(0,1)].mean())"
   ]
  },
  {
   "cell_type": "code",
   "execution_count": null,
   "metadata": {},
   "outputs": [],
   "source": [
    "d1.cdf(model.upper[0]) - d1.cdf(model.lower[0])\n"
   ]
  },
  {
   "cell_type": "code",
   "execution_count": null,
   "metadata": {},
   "outputs": [],
   "source": [
    "dict1[(0,0)].cdf(model.upper[0,0])* dict1[(0,1)].cdf(model.upper[0,1]) "
   ]
  },
  {
   "cell_type": "code",
   "execution_count": null,
   "metadata": {},
   "outputs": [],
   "source": [
    "dt = multivariate_normal(mean = model.mu[0].numpy(), cov = np.eye(2) * np.square(  tf.nn.softplus(model.sigma[i,:])))"
   ]
  },
  {
   "cell_type": "code",
   "execution_count": null,
   "metadata": {},
   "outputs": [],
   "source": [
    "dt.cdf(model.upper[0].numpy()) - dt.cdf(model.lower[0].numpy())"
   ]
  },
  {
   "cell_type": "code",
   "execution_count": null,
   "metadata": {},
   "outputs": [],
   "source": [
    "model.normalizing_constant()"
   ]
  },
  {
   "cell_type": "code",
   "execution_count": null,
   "metadata": {},
   "outputs": [],
   "source": [
    "np.linalg.eyes(3)"
   ]
  },
  {
   "cell_type": "code",
   "execution_count": null,
   "metadata": {},
   "outputs": [],
   "source": [
    "model.eta"
   ]
  },
  {
   "cell_type": "code",
   "execution_count": 26,
   "metadata": {},
   "outputs": [
    {
     "data": {
      "image/png": "[encoded data removed]",
      "text/plain": [
       "<Figure size 432x288 with 1 Axes>"
      ]
     },
     "metadata": {
      "needs_background": "light"
     },
     "output_type": "display_data"
    }
   ],
   "source": [
    "plt.plot(save_loss)\n",
    "plt.show()"
   ]
  },
  {
   "cell_type": "code",
   "execution_count": null,
   "metadata": {},
   "outputs": [],
   "source": [
    "plt.plot(lloss[0])\n",
    "plt.show()"
   ]
  },
  {
   "cell_type": "code",
   "execution_count": null,
   "metadata": {},
   "outputs": [],
   "source": [
    "model.lower"
   ]
  },
  {
   "cell_type": "code",
   "execution_count": null,
   "metadata": {},
   "outputs": [],
   "source": [
    "model.upper"
   ]
  },
  {
   "cell_type": "code",
   "execution_count": null,
   "metadata": {},
   "outputs": [],
   "source": [
    "model.mu"
   ]
  },
  {
   "cell_type": "code",
   "execution_count": null,
   "metadata": {},
   "outputs": [],
   "source": [
    "currentAxis = plt.gca()\n",
    "low = model.lower.numpy()[0]\n",
    "upper = model.upper.numpy()[0]\n",
    "currentAxis.add_patch(Rectangle((low[0], low[1]), upper[0]-low[0], upper[1]-low[1], fill=None,\n",
    "                                    edgecolor='violet', alpha=1))\n",
    "plt.scatter(X_train[:,0], X_train[:,1], color=[color_map[i] for i in y_train])\n",
    "low = model.lower.numpy()[1]\n",
    "upper = model.upper.numpy()[1]\n",
    "currentAxis.add_patch(Rectangle((low[0], low[1]), upper[0]-low[0], upper[1]-low[1], fill=None, \n",
    "                                 edgecolor='green', alpha=1))\n",
    "plt.scatter(*model.mu.numpy().T, marker='^')\n",
    "plt.show()"
   ]
  },
  {
   "cell_type": "code",
   "execution_count": null,
   "metadata": {},
   "outputs": [],
   "source": [
    "class testModel(tf.Module):\n",
    "\n",
    "    def __init__(self, number_components):\n",
    "        \n",
    "        super(testModel, self).__init__()\n",
    "        \n",
    "        self.eta =  tf.Variable(0., trainable=False) \n",
    "        self.var = tf.Variable(1.0, dtype = tf.float32)\n",
    "        self.var2 = tf.Variable(3.0, dtype = tf.float32)\n",
    "        self.initialise_variables()\n",
    "        self.M = 2\n",
    "        \n",
    "    @tf.function\n",
    "    def initialise_variables(self):\n",
    "        self.var.assign(2.0)\n",
    "                              \n",
    "    @tf.function\n",
    "    def normalizing_constant(self, way = \"independent\"):\n",
    "        dict1 = {(i,j): tf.square(self.var)\n",
    "                 for j in range(1) for i in range(2)}\n",
    "        \n",
    "        return tf.reduce_sum(tf.stack([[dict1[(i,j)] for j in range(1)] for i in range(2)]))\n",
    "        \n",
    "    @tf.function\n",
    "    def logistic (self, x):\n",
    "\n",
    "        return tf.sigmoid(tf.math.multiply(self.eta,x))\n",
    "        \n",
    "    @tf.function\n",
    "    def __call__(self, x):\n",
    "        \n",
    "\n",
    "        return tfd.Normal(loc = self.var, scale = self.var2).cdf(x)\n",
    "\n",
    "    \n",
    "model = testModel(2)\n",
    "print(model.trainable_variables)\n",
    "\n",
    "\n",
    "optimizer = tf.optimizers.Adam(lr = 0.001)\n",
    "\n",
    "loss = 0.0\n",
    "print(model.normalizing_constant())\n",
    "@tf.function\n",
    "def train_step(x):\n",
    "    with tf.GradientTape() as tape:\n",
    "        current_loss = model(x)\n",
    "    gradients = tape.gradient(current_loss, model.trainable_variables)\n",
    "    optimizer.apply_gradients(zip(gradients, model.trainable_variables))\n",
    "    \n",
    "    \n",
    "    return current_loss, gradients\n",
    "\n",
    "\n",
    "\n",
    "lloss= {}\n",
    "        \n",
    "for i in range(1):\n",
    "\n",
    "    #Maximization\n",
    "    lloss[i] = []\n",
    "    eta = (1./2) * i + 20\n",
    "    for j in range(1):\n",
    "        \n",
    "        loss, grad = train_step(0)\n",
    "        #print(model.trainable_variables)\n",
    "        #print(grad)\n",
    "        loss = loss.numpy() \n",
    "        lloss[i].append(loss)\n",
    "        print(grad, model.trainable_variables)\n",
    "    save_loss.append(loss)"
   ]
  },
  {
   "cell_type": "code",
   "execution_count": null,
   "metadata": {},
   "outputs": [],
   "source": [
    "tfd.Normal(loc = 2.0, scale = 3.0).prob(0)"
   ]
  },
  {
   "cell_type": "code",
   "execution_count": null,
   "metadata": {},
   "outputs": [],
   "source": [
    "model.normalizing_constant()"
   ]
  }
 ],
 "metadata": {
  "kernelspec": {
   "display_name": "Python 3",
   "language": "python",
   "name": "python3"
  },
  "language_info": {
   "codemirror_mode": {
    "name": "ipython",
    "version": 3
   },
   "file_extension": ".py",
   "mimetype": "text/x-python",
   "name": "python",
   "nbconvert_exporter": "python",
   "pygments_lexer": "ipython3",
   "version": "3.6.9"
  }
 },
 "nbformat": 4,
 "nbformat_minor": 4
}
