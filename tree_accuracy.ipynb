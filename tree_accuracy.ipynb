{
 "cells": [
  {
   "cell_type": "code",
   "execution_count": 1,
   "metadata": {},
   "outputs": [
    {
     "ename": "ImportError",
     "evalue": "cannot import name 'plot_tree'",
     "output_type": "error",
     "traceback": [
      "\u001b[0;31m---------------------------------------------------------------------------\u001b[0m",
      "\u001b[0;31mImportError\u001b[0m                               Traceback (most recent call last)",
      "\u001b[0;32m<ipython-input-1-ad620c20f4f4>\u001b[0m in \u001b[0;36m<module>\u001b[0;34m()\u001b[0m\n\u001b[1;32m      9\u001b[0m \u001b[0;32mfrom\u001b[0m \u001b[0msklearn\u001b[0m\u001b[0;34m.\u001b[0m\u001b[0mmetrics\u001b[0m \u001b[0;32mimport\u001b[0m \u001b[0maccuracy_score\u001b[0m\u001b[0;34m,\u001b[0m \u001b[0mf1_score\u001b[0m\u001b[0;34m,\u001b[0m \u001b[0mauc\u001b[0m\u001b[0;34m,\u001b[0m \u001b[0mnormalized_mutual_info_score\u001b[0m\u001b[0;34m\u001b[0m\u001b[0;34m\u001b[0m\u001b[0m\n\u001b[1;32m     10\u001b[0m \u001b[0;32mfrom\u001b[0m \u001b[0msklearn\u001b[0m\u001b[0;34m.\u001b[0m\u001b[0mmodel_selection\u001b[0m \u001b[0;32mimport\u001b[0m \u001b[0mtrain_test_split\u001b[0m\u001b[0;34m\u001b[0m\u001b[0;34m\u001b[0m\u001b[0m\n\u001b[0;32m---> 11\u001b[0;31m \u001b[0;32mfrom\u001b[0m \u001b[0msklearn\u001b[0m\u001b[0;34m.\u001b[0m\u001b[0mtree\u001b[0m \u001b[0;32mimport\u001b[0m \u001b[0mDecisionTreeClassifier\u001b[0m\u001b[0;34m,\u001b[0m \u001b[0mplot_tree\u001b[0m\u001b[0;34m,\u001b[0m \u001b[0mexport_graphviz\u001b[0m\u001b[0;34m\u001b[0m\u001b[0;34m\u001b[0m\u001b[0m\n\u001b[0m\u001b[1;32m     12\u001b[0m \u001b[0;32mfrom\u001b[0m \u001b[0mmatplotlib\u001b[0m \u001b[0;32mimport\u001b[0m \u001b[0mpyplot\u001b[0m \u001b[0;32mas\u001b[0m \u001b[0mplt\u001b[0m\u001b[0;34m\u001b[0m\u001b[0;34m\u001b[0m\u001b[0m\n\u001b[1;32m     13\u001b[0m \u001b[0;32mfrom\u001b[0m \u001b[0mmatplotlib\u001b[0m \u001b[0;32mimport\u001b[0m \u001b[0mcolors\u001b[0m\u001b[0;34m\u001b[0m\u001b[0;34m\u001b[0m\u001b[0m\n",
      "\u001b[0;31mImportError\u001b[0m: cannot import name 'plot_tree'"
     ]
    }
   ],
   "source": [
    "import numpy as np\n",
    "import os\n",
    "from time import time\n",
    "import datetime\n",
    "import gc\n",
    "import re\n",
    "\n",
    "import pandas as pd\n",
    "from sklearn.metrics import accuracy_score, f1_score, auc, normalized_mutual_info_score\n",
    "from sklearn.model_selection import train_test_split\n",
    "from sklearn.tree import DecisionTreeClassifier, plot_tree, export_graphviz\n",
    "from matplotlib import pyplot as plt\n",
    "from matplotlib import colors\n",
    "import pydotplus\n",
    "\n",
    "\n",
    "import tensorflow.compat.v2 as tf\n",
    "import tensorflow_probability as tfp\n",
    "from tensorboard.plugins.hparams import api as hp\n",
    "\n",
    "from read_dataset_for_constraint import switch_dataset, data_to_interpret\n",
    "\n",
    "from utils import plot_boundaries_hyperrect\n",
    "from sTGMA import SoftTruncatedGaussianMixtureAnalysis\n",
    "\n",
    "from black_box import BlackBoxNN\n",
    "from config import  config_params, hyper_params\n"
   ]
  },
  {
   "cell_type": "code",
   "execution_count": 155,
   "metadata": {},
   "outputs": [],
   "source": [
    "datasets = [\"data1\", \"wine\", \"bank_marketing\", \"ionosphere\", \"magic_gamma\", \"pima_indian_diabetes\", \"indian_liver\", \"german_credit\", \"heart_disease\", \"adult\", \"breast_cancer\", \"thoracy_surgery\",\"winequality_red\", \"waveform\", \"credit_card\", \"news_popularity\"]"
   ]
  },
  {
   "cell_type": "code",
   "execution_count": 156,
   "metadata": {},
   "outputs": [],
   "source": [
    "dico_results = {name: pd.DataFrame(columns=[\"fold\", \"train_acc_DT\", \"test_acc_DT\", \"K\"]) for name in datasets}"
   ]
  },
  {
   "cell_type": "code",
   "execution_count": 157,
   "metadata": {},
   "outputs": [],
   "source": [
    "for fold in range(5):\n",
    "    for dataset_name in ['news_popularity']:\n",
    "        \n",
    "        data_train = np.genfromtxt(f'data_global/{dataset_name}/{dataset_name}_train_{fold}.csv',delimiter=';')\n",
    "\n",
    "        data_test = np.genfromtxt(f'data_global/{dataset_name}/{dataset_name}_val_{fold}.csv',delimiter=';')\n",
    "\n",
    "        X_train = data_train[:,:-1].astype(np.float32)\n",
    "\n",
    "        y_train = data_train[:,-1]\n",
    "\n",
    "        X_test = data_test[:,:-1].astype(np.float32)\n",
    "\n",
    "        y_test = data_test[:,-1]\n",
    "        list_accuracy = []\n",
    "        for depth in range(2,6):\n",
    "            dt = DecisionTreeClassifier(max_depth=depth, random_state=111)\n",
    "            dt.fit(X_train, y_train)\n",
    "            list_accuracy.append(accuracy_score(y_test, dt.predict(X_test)))\n",
    "        dt = DecisionTreeClassifier(max_depth=2+np.argmax(list_accuracy), random_state=111)\n",
    "        data_train = np.genfromtxt(f'data_global/{dataset_name}/{dataset_name}_holdout_train_{fold}.csv',delimiter=';')\n",
    "\n",
    "        data_test = np.genfromtxt(f'data_global/{dataset_name}/{dataset_name}_holdout_test_{fold}.csv',delimiter=';')\n",
    "\n",
    "        X_train = data_train[:,:-1].astype(np.float32)\n",
    "\n",
    "        y_train = data_train[:,-1]\n",
    "\n",
    "        X_test = data_test[:,:-1].astype(np.float32)\n",
    "        y_test = data_test[:,-1]\n",
    "        \n",
    "        dt.fit(X_train, y_train)\n",
    "        \n",
    "        dico_results[dataset_name].loc[fold] = [fold, accuracy_score(dt.predict(X_train), y_train), accuracy_score(dt.predict(X_test), y_test), 2+np.argmax(list_accuracy)]"
   ]
  },
  {
   "cell_type": "code",
   "execution_count": 158,
   "metadata": {},
   "outputs": [],
   "source": [
    "mean_results = pd.DataFrame(columns=[\"test_acc\", \"train_acc\"])"
   ]
  },
  {
   "cell_type": "code",
   "execution_count": 159,
   "metadata": {},
   "outputs": [],
   "source": [
    "for name in datasets:\n",
    "    mean_results.loc[name] = [ dico_results[name][\"test_acc_DT\"].mean(), dico_results[name][\"train_acc_DT\"].mean()]"
   ]
  },
  {
   "cell_type": "code",
   "execution_count": 143,
   "metadata": {},
   "outputs": [
    {
     "data": {
      "text/html": [
       "<div>\n",
       "<style scoped>\n",
       "    .dataframe tbody tr th:only-of-type {\n",
       "        vertical-align: middle;\n",
       "    }\n",
       "\n",
       "    .dataframe tbody tr th {\n",
       "        vertical-align: top;\n",
       "    }\n",
       "\n",
       "    .dataframe thead th {\n",
       "        text-align: right;\n",
       "    }\n",
       "</style>\n",
       "<table border=\"1\" class=\"dataframe\">\n",
       "  <thead>\n",
       "    <tr style=\"text-align: right;\">\n",
       "      <th></th>\n",
       "      <th>test_acc</th>\n",
       "      <th>train_acc</th>\n",
       "    </tr>\n",
       "  </thead>\n",
       "  <tbody>\n",
       "    <tr>\n",
       "      <th>data1</th>\n",
       "      <td>0.833333</td>\n",
       "      <td>0.968085</td>\n",
       "    </tr>\n",
       "    <tr>\n",
       "      <th>wine</th>\n",
       "      <td>0.911111</td>\n",
       "      <td>0.971831</td>\n",
       "    </tr>\n",
       "    <tr>\n",
       "      <th>bank_marketing</th>\n",
       "      <td>0.912136</td>\n",
       "      <td>0.917876</td>\n",
       "    </tr>\n",
       "    <tr>\n",
       "      <th>ionosphere</th>\n",
       "      <td>0.873239</td>\n",
       "      <td>0.939286</td>\n",
       "    </tr>\n",
       "    <tr>\n",
       "      <th>magic_gamma</th>\n",
       "      <td>0.825657</td>\n",
       "      <td>0.838420</td>\n",
       "    </tr>\n",
       "    <tr>\n",
       "      <th>pima_indian_diabetes</th>\n",
       "      <td>0.724675</td>\n",
       "      <td>0.817264</td>\n",
       "    </tr>\n",
       "    <tr>\n",
       "      <th>indian_liver</th>\n",
       "      <td>0.660345</td>\n",
       "      <td>0.765011</td>\n",
       "    </tr>\n",
       "    <tr>\n",
       "      <th>german_credit</th>\n",
       "      <td>0.718000</td>\n",
       "      <td>0.771500</td>\n",
       "    </tr>\n",
       "    <tr>\n",
       "      <th>heart_disease</th>\n",
       "      <td>0.753333</td>\n",
       "      <td>0.866667</td>\n",
       "    </tr>\n",
       "    <tr>\n",
       "      <th>adult</th>\n",
       "      <td>0.855953</td>\n",
       "      <td>0.859934</td>\n",
       "    </tr>\n",
       "    <tr>\n",
       "      <th>breast_cancer</th>\n",
       "      <td>0.944526</td>\n",
       "      <td>0.968132</td>\n",
       "    </tr>\n",
       "    <tr>\n",
       "      <th>thoracy_surgery</th>\n",
       "      <td>0.868085</td>\n",
       "      <td>0.854255</td>\n",
       "    </tr>\n",
       "    <tr>\n",
       "      <th>winequality_red</th>\n",
       "      <td>0.885625</td>\n",
       "      <td>0.909930</td>\n",
       "    </tr>\n",
       "    <tr>\n",
       "      <th>waveform</th>\n",
       "      <td>0.754400</td>\n",
       "      <td>0.811600</td>\n",
       "    </tr>\n",
       "    <tr>\n",
       "      <th>credit_card</th>\n",
       "      <td>0.822100</td>\n",
       "      <td>0.821667</td>\n",
       "    </tr>\n",
       "  </tbody>\n",
       "</table>\n",
       "</div>"
      ],
      "text/plain": [
       "                      test_acc  train_acc\n",
       "data1                 0.833333   0.968085\n",
       "wine                  0.911111   0.971831\n",
       "bank_marketing        0.912136   0.917876\n",
       "ionosphere            0.873239   0.939286\n",
       "magic_gamma           0.825657   0.838420\n",
       "pima_indian_diabetes  0.724675   0.817264\n",
       "indian_liver          0.660345   0.765011\n",
       "german_credit         0.718000   0.771500\n",
       "heart_disease         0.753333   0.866667\n",
       "adult                 0.855953   0.859934\n",
       "breast_cancer         0.944526   0.968132\n",
       "thoracy_surgery       0.868085   0.854255\n",
       "winequality_red       0.885625   0.909930\n",
       "waveform              0.754400   0.811600\n",
       "credit_card           0.822100   0.821667"
      ]
     },
     "execution_count": 143,
     "metadata": {},
     "output_type": "execute_result"
    }
   ],
   "source": [
    "mean_results"
   ]
  },
  {
   "cell_type": "code",
   "execution_count": 160,
   "metadata": {},
   "outputs": [
    {
     "data": {
      "text/html": [
       "<div>\n",
       "<style scoped>\n",
       "    .dataframe tbody tr th:only-of-type {\n",
       "        vertical-align: middle;\n",
       "    }\n",
       "\n",
       "    .dataframe tbody tr th {\n",
       "        vertical-align: top;\n",
       "    }\n",
       "\n",
       "    .dataframe thead th {\n",
       "        text-align: right;\n",
       "    }\n",
       "</style>\n",
       "<table border=\"1\" class=\"dataframe\">\n",
       "  <thead>\n",
       "    <tr style=\"text-align: right;\">\n",
       "      <th></th>\n",
       "      <th>fold</th>\n",
       "      <th>train_acc_DT</th>\n",
       "      <th>test_acc_DT</th>\n",
       "      <th>K</th>\n",
       "    </tr>\n",
       "  </thead>\n",
       "  <tbody>\n",
       "    <tr>\n",
       "      <th>0</th>\n",
       "      <td>0.0</td>\n",
       "      <td>0.644994</td>\n",
       "      <td>0.641821</td>\n",
       "      <td>5.0</td>\n",
       "    </tr>\n",
       "    <tr>\n",
       "      <th>1</th>\n",
       "      <td>1.0</td>\n",
       "      <td>0.639477</td>\n",
       "      <td>0.617606</td>\n",
       "      <td>4.0</td>\n",
       "    </tr>\n",
       "    <tr>\n",
       "      <th>2</th>\n",
       "      <td>2.0</td>\n",
       "      <td>0.647328</td>\n",
       "      <td>0.629840</td>\n",
       "      <td>5.0</td>\n",
       "    </tr>\n",
       "    <tr>\n",
       "      <th>3</th>\n",
       "      <td>3.0</td>\n",
       "      <td>0.646697</td>\n",
       "      <td>0.632741</td>\n",
       "      <td>5.0</td>\n",
       "    </tr>\n",
       "    <tr>\n",
       "      <th>4</th>\n",
       "      <td>4.0</td>\n",
       "      <td>0.649157</td>\n",
       "      <td>0.630975</td>\n",
       "      <td>5.0</td>\n",
       "    </tr>\n",
       "  </tbody>\n",
       "</table>\n",
       "</div>"
      ],
      "text/plain": [
       "   fold  train_acc_DT  test_acc_DT    K\n",
       "0   0.0      0.644994     0.641821  5.0\n",
       "1   1.0      0.639477     0.617606  4.0\n",
       "2   2.0      0.647328     0.629840  5.0\n",
       "3   3.0      0.646697     0.632741  5.0\n",
       "4   4.0      0.649157     0.630975  5.0"
      ]
     },
     "execution_count": 160,
     "metadata": {},
     "output_type": "execute_result"
    }
   ],
   "source": [
    "dico_results['news_popularity']"
   ]
  },
  {
   "cell_type": "code",
   "execution_count": 29,
   "metadata": {},
   "outputs": [
    {
     "data": {
      "text/html": [
       "<div>\n",
       "<style scoped>\n",
       "    .dataframe tbody tr th:only-of-type {\n",
       "        vertical-align: middle;\n",
       "    }\n",
       "\n",
       "    .dataframe tbody tr th {\n",
       "        vertical-align: top;\n",
       "    }\n",
       "\n",
       "    .dataframe thead th {\n",
       "        text-align: right;\n",
       "    }\n",
       "</style>\n",
       "<table border=\"1\" class=\"dataframe\">\n",
       "  <thead>\n",
       "    <tr style=\"text-align: right;\">\n",
       "      <th></th>\n",
       "      <th>test_acc</th>\n",
       "      <th>train_acc</th>\n",
       "    </tr>\n",
       "  </thead>\n",
       "  <tbody>\n",
       "    <tr>\n",
       "      <th>data1</th>\n",
       "      <td>0.833333</td>\n",
       "      <td>0.968085</td>\n",
       "    </tr>\n",
       "    <tr>\n",
       "      <th>wine</th>\n",
       "      <td>0.911111</td>\n",
       "      <td>0.971831</td>\n",
       "    </tr>\n",
       "    <tr>\n",
       "      <th>bank_marketing</th>\n",
       "      <td>0.912136</td>\n",
       "      <td>0.917876</td>\n",
       "    </tr>\n",
       "    <tr>\n",
       "      <th>ionosphere</th>\n",
       "      <td>0.873239</td>\n",
       "      <td>0.939286</td>\n",
       "    </tr>\n",
       "    <tr>\n",
       "      <th>magic_gamma</th>\n",
       "      <td>0.825657</td>\n",
       "      <td>0.838420</td>\n",
       "    </tr>\n",
       "    <tr>\n",
       "      <th>pima_indian_diabetes</th>\n",
       "      <td>0.724675</td>\n",
       "      <td>0.817264</td>\n",
       "    </tr>\n",
       "    <tr>\n",
       "      <th>indian_liver</th>\n",
       "      <td>0.660345</td>\n",
       "      <td>0.765011</td>\n",
       "    </tr>\n",
       "    <tr>\n",
       "      <th>german_credit</th>\n",
       "      <td>0.718000</td>\n",
       "      <td>0.771500</td>\n",
       "    </tr>\n",
       "    <tr>\n",
       "      <th>heart_disease</th>\n",
       "      <td>0.753333</td>\n",
       "      <td>0.866667</td>\n",
       "    </tr>\n",
       "    <tr>\n",
       "      <th>adult</th>\n",
       "      <td>0.855953</td>\n",
       "      <td>0.859934</td>\n",
       "    </tr>\n",
       "    <tr>\n",
       "      <th>breast_cancer</th>\n",
       "      <td>0.944526</td>\n",
       "      <td>0.968132</td>\n",
       "    </tr>\n",
       "    <tr>\n",
       "      <th>thoracy_surgery</th>\n",
       "      <td>0.868085</td>\n",
       "      <td>0.854255</td>\n",
       "    </tr>\n",
       "    <tr>\n",
       "      <th>winequality_red</th>\n",
       "      <td>0.885625</td>\n",
       "      <td>0.909930</td>\n",
       "    </tr>\n",
       "  </tbody>\n",
       "</table>\n",
       "</div>"
      ],
      "text/plain": [
       "                      test_acc  train_acc\n",
       "data1                 0.833333   0.968085\n",
       "wine                  0.911111   0.971831\n",
       "bank_marketing        0.912136   0.917876\n",
       "ionosphere            0.873239   0.939286\n",
       "magic_gamma           0.825657   0.838420\n",
       "pima_indian_diabetes  0.724675   0.817264\n",
       "indian_liver          0.660345   0.765011\n",
       "german_credit         0.718000   0.771500\n",
       "heart_disease         0.753333   0.866667\n",
       "adult                 0.855953   0.859934\n",
       "breast_cancer         0.944526   0.968132\n",
       "thoracy_surgery       0.868085   0.854255\n",
       "winequality_red       0.885625   0.909930"
      ]
     },
     "execution_count": 29,
     "metadata": {},
     "output_type": "execute_result"
    }
   ],
   "source": [
    "mean_results"
   ]
  },
  {
   "cell_type": "code",
   "execution_count": 3,
   "metadata": {},
   "outputs": [],
   "source": [
    "import daft\n",
    "from matplotlib import rc\n",
    "# import matplotlib as mpl\n",
    "# rc_fonts = {\"font.size\":40,\n",
    "#             \"font.family\":\"serif\",\n",
    "#             'figure.titlesize': 22,\n",
    "#     'text.latex.preamble': [r\"\"\"\\usepackage{bm}\"\"\"],\n",
    "#              \"xtick.labelsize\": 20,\n",
    "#     \"ytick.labelsize\": 20,\n",
    "# }\n",
    "\n",
    "# mpl.rcParams.update(rc_fonts)\n",
    "\n",
    "\n",
    "\n"
   ]
  },
  {
   "cell_type": "code",
   "execution_count": 56,
   "metadata": {},
   "outputs": [
    {
     "data": {
      "image/png": "[encoded data removed]",
      "text/plain": [
       "<Figure size 321.26x368.504 with 1 Axes>"
      ]
     },
     "metadata": {},
     "output_type": "display_data"
    }
   ],
   "source": [
    "\n",
    "rc(\"font\", family=\"serif\", size=12)\n",
    "rc(\"text\", usetex=True)\n",
    "\n",
    "\n",
    "# Instantiate the PGM.\n",
    "pgm = daft.PGM()\n",
    "\n",
    "# Hierarchical parameters.\n",
    "# pgm.add_node(\"alpha\", r\"$\\alpha$\", 0.5, 2, fixed=True)\n",
    "# pgm.add_node(\"beta\", r\"$\\beta$\", 1.5, 2)\n",
    "\n",
    "# Latent variable.\n",
    "pgm.add_node(\"z\", r\"$z_{nk}^{(c)}$\", 1.5, 2)\n",
    "\n",
    "# Data.\n",
    "pgm.add_node(\"x\", r\"$\\mathbf{x}_n$\", 1.5, 3.5, observed=True)\n",
    "pgm.add_node(\"y\", r\"$y_n$\", 1.5, 0.8, observed=True)\n",
    "pgm.add_node(\"pi\", r\"$\\pi^{(c)}_k$\", 2.6, 2, fixed = True,offset=(15,-12))\n",
    "pgm.add_node(\"sigma\", r\"$\\mathbf{\\Sigma}^{(c)}_k$\", 0.3, 2.75, fixed=True, offset=(-6,-3))\n",
    "pgm.add_node(\"mu\", r'$\\textrm{\\boldmath$\\mu$}^{(c)}_k$', 0.3, 2.3, fixed=True, offset=(-6,-3))\n",
    "pgm.add_node(\"alpha1\", r\"$\\textrm{\\boldmath$\\alpha$}^{(c)(1)}_k$\", 2.6, 2.75, fixed=True , offset=(17,-5))\n",
    "pgm.add_node(\"alpha2\", r\"$\\textrm{\\boldmath$\\alpha$}^{(c)(2)}_k$\", 2.6, 2.3, fixed=True, offset=(17,-5))\n",
    "# Add in the edges.\n",
    "pgm.add_edge(\"y\", \"z\")\n",
    "pgm.add_edge(\"z\", \"x\")\n",
    "pgm.add_edge(\"pi\", \"z\")\n",
    "pgm.add_edge(\"mu\", \"x\")\n",
    "pgm.add_edge(\"alpha1\", \"x\")\n",
    "pgm.add_edge(\"alpha2\", \"x\")\n",
    "pgm.add_edge(\"sigma\", \"x\")\n",
    "# And a plate.\n",
    "pgm.add_plate([0.9, 0.4, 1.4, 3.5], label=r\"$n=1..N$\", shift=-0.2)\n",
    "pgm.add_plate([0, 1.4, 3.2, 1.7], label=r\"$\\\\k=1..K\\\\ c=1..C$\", shift=-0.2)\n",
    "\n",
    "# Render and save.\n",
    "pgm.render(dpi=120)\n",
    "\n",
    "\n",
    "pgm.savefig(\"strugma.png\", dpi=120)"
   ]
  },
  {
   "cell_type": "code",
   "execution_count": 57,
   "metadata": {},
   "outputs": [
    {
     "data": {
      "image/png": "[encoded data removed]",
      "text/plain": [
       "<Figure size 192.913x368.504 with 1 Axes>"
      ]
     },
     "metadata": {},
     "output_type": "display_data"
    }
   ],
   "source": [
    "# Instantiate the PGM.\n",
    "pgm1 = daft.PGM()\n",
    "\n",
    "\n",
    "# Data.\n",
    "pgm1.add_node(\"x\", r\"$\\mathbf{x}_n$\", 1.5, 3.5, observed=True)\n",
    "pgm1.add_node(\"y\", r\"$y_n$\", 1.5, 0.8, observed=True)\n",
    "\n",
    "\n",
    "pgm1.add_node(\"theta\", r'$\\textrm{\\boldmath$\\theta$}$', 0.5, 2.5, fixed=True)\n",
    "\n",
    "# Add in the edges.\n",
    "pgm1.add_edge(\"x\", \"y\")\n",
    "pgm1.add_edge(\"theta\", \"y\")\n",
    "\n",
    "# And a plate.\n",
    "pgm1.add_plate([0.9, 0.4, 1.4, 3.5], label=r\"$n=1..N$\", shift=-0.2)\n",
    "\n",
    "\n",
    "# Render and save.\n",
    "pgm1.render(dpi=120)\n",
    "\n",
    "\n",
    "pgm1.savefig(\"black_box.png\", dpi=120)"
   ]
  },
  {
   "cell_type": "code",
   "execution_count": 29,
   "metadata": {},
   "outputs": [
    {
     "name": "stdout",
     "output_type": "stream",
     "text": [
      "0.9166666666666666\n"
     ]
    },
    {
     "ename": "ValueError",
     "evalue": "Could not find matching function to call loaded from the SavedModel. Got:\n  Positional arguments (1 total):\n    * Tensor(\"X:0\", shape=(75, 2), dtype=float32)\n  Keyword arguments: {}\n\nExpected these arguments to match one of the following 2 option(s):\n\nOption 1:\n  Positional arguments (1 total):\n    * TensorSpec(shape=(24, 2), dtype=tf.float32, name='X')\n  Keyword arguments: {}\n\nOption 2:\n  Positional arguments (1 total):\n    * TensorSpec(shape=(94, 2), dtype=tf.float32, name='X')\n  Keyword arguments: {}",
     "output_type": "error",
     "traceback": [
      "\u001b[0;31m---------------------------------------------------------------------------\u001b[0m",
      "\u001b[0;31mValueError\u001b[0m                                Traceback (most recent call last)",
      "\u001b[0;32m<ipython-input-29-327b54871921>\u001b[0m in \u001b[0;36m<module>\u001b[0;34m()\u001b[0m\n\u001b[1;32m      7\u001b[0m \u001b[0mprint\u001b[0m\u001b[0;34m(\u001b[0m\u001b[0maccuracy_score\u001b[0m\u001b[0;34m(\u001b[0m\u001b[0mbb_y_test\u001b[0m\u001b[0;34m,\u001b[0m \u001b[0my_test\u001b[0m\u001b[0;34m)\u001b[0m\u001b[0;34m)\u001b[0m\u001b[0;34m\u001b[0m\u001b[0;34m\u001b[0m\u001b[0m\n\u001b[1;32m      8\u001b[0m \u001b[0;34m\u001b[0m\u001b[0m\n\u001b[0;32m----> 9\u001b[0;31m \u001b[0mbb_y_train_2\u001b[0m \u001b[0;34m=\u001b[0m \u001b[0mnp\u001b[0m\u001b[0;34m.\u001b[0m\u001b[0margmax\u001b[0m\u001b[0;34m(\u001b[0m\u001b[0mblack_box2\u001b[0m\u001b[0;34m.\u001b[0m\u001b[0mpredict\u001b[0m\u001b[0;34m(\u001b[0m\u001b[0mX_train\u001b[0m\u001b[0;34m)\u001b[0m\u001b[0;34m.\u001b[0m\u001b[0mnumpy\u001b[0m\u001b[0;34m(\u001b[0m\u001b[0;34m)\u001b[0m\u001b[0;34m,\u001b[0m \u001b[0maxis\u001b[0m \u001b[0;34m=\u001b[0m \u001b[0;34m-\u001b[0m\u001b[0;36m1\u001b[0m\u001b[0;34m)\u001b[0m\u001b[0;34m\u001b[0m\u001b[0;34m\u001b[0m\u001b[0m\n\u001b[0m\u001b[1;32m     10\u001b[0m \u001b[0mbb_y_test_2\u001b[0m \u001b[0;34m=\u001b[0m  \u001b[0mnp\u001b[0m\u001b[0;34m.\u001b[0m\u001b[0margmax\u001b[0m\u001b[0;34m(\u001b[0m\u001b[0mblack_box2\u001b[0m\u001b[0;34m.\u001b[0m\u001b[0mpredict\u001b[0m\u001b[0;34m(\u001b[0m\u001b[0mX_test\u001b[0m\u001b[0;34m)\u001b[0m\u001b[0;34m.\u001b[0m\u001b[0mnumpy\u001b[0m\u001b[0;34m(\u001b[0m\u001b[0;34m)\u001b[0m\u001b[0;34m,\u001b[0m \u001b[0maxis\u001b[0m \u001b[0;34m=\u001b[0m \u001b[0;34m-\u001b[0m\u001b[0;36m1\u001b[0m\u001b[0;34m)\u001b[0m\u001b[0;34m\u001b[0m\u001b[0;34m\u001b[0m\u001b[0m\n\u001b[1;32m     11\u001b[0m \u001b[0mprint\u001b[0m\u001b[0;34m(\u001b[0m\u001b[0maccuracy_score\u001b[0m\u001b[0;34m(\u001b[0m\u001b[0mbb_y_test_2\u001b[0m\u001b[0;34m,\u001b[0m \u001b[0my_test\u001b[0m\u001b[0;34m)\u001b[0m\u001b[0;34m)\u001b[0m\u001b[0;34m\u001b[0m\u001b[0;34m\u001b[0m\u001b[0m\n",
      "\u001b[0;32m/home/gnanfack/.local/lib/python3.6/site-packages/tensorflow_core/python/eager/def_function.py\u001b[0m in \u001b[0;36m__call__\u001b[0;34m(self, *args, **kwds)\u001b[0m\n\u001b[1;32m    566\u001b[0m         \u001b[0mxla_context\u001b[0m\u001b[0;34m.\u001b[0m\u001b[0mExit\u001b[0m\u001b[0;34m(\u001b[0m\u001b[0;34m)\u001b[0m\u001b[0;34m\u001b[0m\u001b[0;34m\u001b[0m\u001b[0m\n\u001b[1;32m    567\u001b[0m     \u001b[0;32melse\u001b[0m\u001b[0;34m:\u001b[0m\u001b[0;34m\u001b[0m\u001b[0;34m\u001b[0m\u001b[0m\n\u001b[0;32m--> 568\u001b[0;31m       \u001b[0mresult\u001b[0m \u001b[0;34m=\u001b[0m \u001b[0mself\u001b[0m\u001b[0;34m.\u001b[0m\u001b[0m_call\u001b[0m\u001b[0;34m(\u001b[0m\u001b[0;34m*\u001b[0m\u001b[0margs\u001b[0m\u001b[0;34m,\u001b[0m \u001b[0;34m**\u001b[0m\u001b[0mkwds\u001b[0m\u001b[0;34m)\u001b[0m\u001b[0;34m\u001b[0m\u001b[0;34m\u001b[0m\u001b[0m\n\u001b[0m\u001b[1;32m    569\u001b[0m \u001b[0;34m\u001b[0m\u001b[0m\n\u001b[1;32m    570\u001b[0m     \u001b[0;32mif\u001b[0m \u001b[0mtracing_count\u001b[0m \u001b[0;34m==\u001b[0m \u001b[0mself\u001b[0m\u001b[0;34m.\u001b[0m\u001b[0m_get_tracing_count\u001b[0m\u001b[0;34m(\u001b[0m\u001b[0;34m)\u001b[0m\u001b[0;34m:\u001b[0m\u001b[0;34m\u001b[0m\u001b[0;34m\u001b[0m\u001b[0m\n",
      "\u001b[0;32m/home/gnanfack/.local/lib/python3.6/site-packages/tensorflow_core/python/eager/def_function.py\u001b[0m in \u001b[0;36m_call\u001b[0;34m(self, *args, **kwds)\u001b[0m\n\u001b[1;32m    613\u001b[0m       \u001b[0;31m# This is the first call of __call__, so we have to initialize.\u001b[0m\u001b[0;34m\u001b[0m\u001b[0;34m\u001b[0m\u001b[0;34m\u001b[0m\u001b[0m\n\u001b[1;32m    614\u001b[0m       \u001b[0minitializers\u001b[0m \u001b[0;34m=\u001b[0m \u001b[0;34m[\u001b[0m\u001b[0;34m]\u001b[0m\u001b[0;34m\u001b[0m\u001b[0;34m\u001b[0m\u001b[0m\n\u001b[0;32m--> 615\u001b[0;31m       \u001b[0mself\u001b[0m\u001b[0;34m.\u001b[0m\u001b[0m_initialize\u001b[0m\u001b[0;34m(\u001b[0m\u001b[0margs\u001b[0m\u001b[0;34m,\u001b[0m \u001b[0mkwds\u001b[0m\u001b[0;34m,\u001b[0m \u001b[0madd_initializers_to\u001b[0m\u001b[0;34m=\u001b[0m\u001b[0minitializers\u001b[0m\u001b[0;34m)\u001b[0m\u001b[0;34m\u001b[0m\u001b[0;34m\u001b[0m\u001b[0m\n\u001b[0m\u001b[1;32m    616\u001b[0m     \u001b[0;32mfinally\u001b[0m\u001b[0;34m:\u001b[0m\u001b[0;34m\u001b[0m\u001b[0;34m\u001b[0m\u001b[0m\n\u001b[1;32m    617\u001b[0m       \u001b[0;31m# At this point we know that the initialization is complete (or less\u001b[0m\u001b[0;34m\u001b[0m\u001b[0;34m\u001b[0m\u001b[0;34m\u001b[0m\u001b[0m\n",
      "\u001b[0;32m/home/gnanfack/.local/lib/python3.6/site-packages/tensorflow_core/python/eager/def_function.py\u001b[0m in \u001b[0;36m_initialize\u001b[0;34m(self, args, kwds, add_initializers_to)\u001b[0m\n\u001b[1;32m    495\u001b[0m     self._concrete_stateful_fn = (\n\u001b[1;32m    496\u001b[0m         self._stateful_fn._get_concrete_function_internal_garbage_collected(  # pylint: disable=protected-access\n\u001b[0;32m--> 497\u001b[0;31m             *args, **kwds))\n\u001b[0m\u001b[1;32m    498\u001b[0m \u001b[0;34m\u001b[0m\u001b[0m\n\u001b[1;32m    499\u001b[0m     \u001b[0;32mdef\u001b[0m \u001b[0minvalid_creator_scope\u001b[0m\u001b[0;34m(\u001b[0m\u001b[0;34m*\u001b[0m\u001b[0munused_args\u001b[0m\u001b[0;34m,\u001b[0m \u001b[0;34m**\u001b[0m\u001b[0munused_kwds\u001b[0m\u001b[0;34m)\u001b[0m\u001b[0;34m:\u001b[0m\u001b[0;34m\u001b[0m\u001b[0;34m\u001b[0m\u001b[0m\n",
      "\u001b[0;32m/home/gnanfack/.local/lib/python3.6/site-packages/tensorflow_core/python/eager/function.py\u001b[0m in \u001b[0;36m_get_concrete_function_internal_garbage_collected\u001b[0;34m(self, *args, **kwargs)\u001b[0m\n\u001b[1;32m   2387\u001b[0m       \u001b[0margs\u001b[0m\u001b[0;34m,\u001b[0m \u001b[0mkwargs\u001b[0m \u001b[0;34m=\u001b[0m \u001b[0;32mNone\u001b[0m\u001b[0;34m,\u001b[0m \u001b[0;32mNone\u001b[0m\u001b[0;34m\u001b[0m\u001b[0;34m\u001b[0m\u001b[0m\n\u001b[1;32m   2388\u001b[0m     \u001b[0;32mwith\u001b[0m \u001b[0mself\u001b[0m\u001b[0;34m.\u001b[0m\u001b[0m_lock\u001b[0m\u001b[0;34m:\u001b[0m\u001b[0;34m\u001b[0m\u001b[0;34m\u001b[0m\u001b[0m\n\u001b[0;32m-> 2389\u001b[0;31m       \u001b[0mgraph_function\u001b[0m\u001b[0;34m,\u001b[0m \u001b[0m_\u001b[0m\u001b[0;34m,\u001b[0m \u001b[0m_\u001b[0m \u001b[0;34m=\u001b[0m \u001b[0mself\u001b[0m\u001b[0;34m.\u001b[0m\u001b[0m_maybe_define_function\u001b[0m\u001b[0;34m(\u001b[0m\u001b[0margs\u001b[0m\u001b[0;34m,\u001b[0m \u001b[0mkwargs\u001b[0m\u001b[0;34m)\u001b[0m\u001b[0;34m\u001b[0m\u001b[0;34m\u001b[0m\u001b[0m\n\u001b[0m\u001b[1;32m   2390\u001b[0m     \u001b[0;32mreturn\u001b[0m \u001b[0mgraph_function\u001b[0m\u001b[0;34m\u001b[0m\u001b[0;34m\u001b[0m\u001b[0m\n\u001b[1;32m   2391\u001b[0m \u001b[0;34m\u001b[0m\u001b[0m\n",
      "\u001b[0;32m/home/gnanfack/.local/lib/python3.6/site-packages/tensorflow_core/python/eager/function.py\u001b[0m in \u001b[0;36m_maybe_define_function\u001b[0;34m(self, args, kwargs)\u001b[0m\n\u001b[1;32m   2701\u001b[0m \u001b[0;34m\u001b[0m\u001b[0m\n\u001b[1;32m   2702\u001b[0m       \u001b[0mself\u001b[0m\u001b[0;34m.\u001b[0m\u001b[0m_function_cache\u001b[0m\u001b[0;34m.\u001b[0m\u001b[0mmissed\u001b[0m\u001b[0;34m.\u001b[0m\u001b[0madd\u001b[0m\u001b[0;34m(\u001b[0m\u001b[0mcall_context_key\u001b[0m\u001b[0;34m)\u001b[0m\u001b[0;34m\u001b[0m\u001b[0;34m\u001b[0m\u001b[0m\n\u001b[0;32m-> 2703\u001b[0;31m       \u001b[0mgraph_function\u001b[0m \u001b[0;34m=\u001b[0m \u001b[0mself\u001b[0m\u001b[0;34m.\u001b[0m\u001b[0m_create_graph_function\u001b[0m\u001b[0;34m(\u001b[0m\u001b[0margs\u001b[0m\u001b[0;34m,\u001b[0m \u001b[0mkwargs\u001b[0m\u001b[0;34m)\u001b[0m\u001b[0;34m\u001b[0m\u001b[0;34m\u001b[0m\u001b[0m\n\u001b[0m\u001b[1;32m   2704\u001b[0m       \u001b[0mself\u001b[0m\u001b[0;34m.\u001b[0m\u001b[0m_function_cache\u001b[0m\u001b[0;34m.\u001b[0m\u001b[0mprimary\u001b[0m\u001b[0;34m[\u001b[0m\u001b[0mcache_key\u001b[0m\u001b[0;34m]\u001b[0m \u001b[0;34m=\u001b[0m \u001b[0mgraph_function\u001b[0m\u001b[0;34m\u001b[0m\u001b[0;34m\u001b[0m\u001b[0m\n\u001b[1;32m   2705\u001b[0m       \u001b[0;32mreturn\u001b[0m \u001b[0mgraph_function\u001b[0m\u001b[0;34m,\u001b[0m \u001b[0margs\u001b[0m\u001b[0;34m,\u001b[0m \u001b[0mkwargs\u001b[0m\u001b[0;34m\u001b[0m\u001b[0;34m\u001b[0m\u001b[0m\n",
      "\u001b[0;32m/home/gnanfack/.local/lib/python3.6/site-packages/tensorflow_core/python/eager/function.py\u001b[0m in \u001b[0;36m_create_graph_function\u001b[0;34m(self, args, kwargs, override_flat_arg_shapes)\u001b[0m\n\u001b[1;32m   2591\u001b[0m             \u001b[0marg_names\u001b[0m\u001b[0;34m=\u001b[0m\u001b[0marg_names\u001b[0m\u001b[0;34m,\u001b[0m\u001b[0;34m\u001b[0m\u001b[0;34m\u001b[0m\u001b[0m\n\u001b[1;32m   2592\u001b[0m             \u001b[0moverride_flat_arg_shapes\u001b[0m\u001b[0;34m=\u001b[0m\u001b[0moverride_flat_arg_shapes\u001b[0m\u001b[0;34m,\u001b[0m\u001b[0;34m\u001b[0m\u001b[0;34m\u001b[0m\u001b[0m\n\u001b[0;32m-> 2593\u001b[0;31m             capture_by_value=self._capture_by_value),\n\u001b[0m\u001b[1;32m   2594\u001b[0m         \u001b[0mself\u001b[0m\u001b[0;34m.\u001b[0m\u001b[0m_function_attributes\u001b[0m\u001b[0;34m,\u001b[0m\u001b[0;34m\u001b[0m\u001b[0;34m\u001b[0m\u001b[0m\n\u001b[1;32m   2595\u001b[0m         \u001b[0;31m# Tell the ConcreteFunction to clean up its graph once it goes out of\u001b[0m\u001b[0;34m\u001b[0m\u001b[0;34m\u001b[0m\u001b[0;34m\u001b[0m\u001b[0m\n",
      "\u001b[0;32m/home/gnanfack/.local/lib/python3.6/site-packages/tensorflow_core/python/framework/func_graph.py\u001b[0m in \u001b[0;36mfunc_graph_from_py_func\u001b[0;34m(name, python_func, args, kwargs, signature, func_graph, autograph, autograph_options, add_control_dependencies, arg_names, op_return_value, collections, capture_by_value, override_flat_arg_shapes)\u001b[0m\n\u001b[1;32m    976\u001b[0m                                           converted_func)\n\u001b[1;32m    977\u001b[0m \u001b[0;34m\u001b[0m\u001b[0m\n\u001b[0;32m--> 978\u001b[0;31m       \u001b[0mfunc_outputs\u001b[0m \u001b[0;34m=\u001b[0m \u001b[0mpython_func\u001b[0m\u001b[0;34m(\u001b[0m\u001b[0;34m*\u001b[0m\u001b[0mfunc_args\u001b[0m\u001b[0;34m,\u001b[0m \u001b[0;34m**\u001b[0m\u001b[0mfunc_kwargs\u001b[0m\u001b[0;34m)\u001b[0m\u001b[0;34m\u001b[0m\u001b[0;34m\u001b[0m\u001b[0m\n\u001b[0m\u001b[1;32m    979\u001b[0m \u001b[0;34m\u001b[0m\u001b[0m\n\u001b[1;32m    980\u001b[0m       \u001b[0;31m# invariant: `func_outputs` contains only Tensors, CompositeTensors,\u001b[0m\u001b[0;34m\u001b[0m\u001b[0;34m\u001b[0m\u001b[0;34m\u001b[0m\u001b[0m\n",
      "\u001b[0;32m/home/gnanfack/.local/lib/python3.6/site-packages/tensorflow_core/python/eager/def_function.py\u001b[0m in \u001b[0;36mwrapped_fn\u001b[0;34m(*args, **kwds)\u001b[0m\n\u001b[1;32m    437\u001b[0m         \u001b[0;31m# __wrapped__ allows AutoGraph to swap in a converted function. We give\u001b[0m\u001b[0;34m\u001b[0m\u001b[0;34m\u001b[0m\u001b[0;34m\u001b[0m\u001b[0m\n\u001b[1;32m    438\u001b[0m         \u001b[0;31m# the function a weak reference to itself to avoid a reference cycle.\u001b[0m\u001b[0;34m\u001b[0m\u001b[0;34m\u001b[0m\u001b[0;34m\u001b[0m\u001b[0m\n\u001b[0;32m--> 439\u001b[0;31m         \u001b[0;32mreturn\u001b[0m \u001b[0mweak_wrapped_fn\u001b[0m\u001b[0;34m(\u001b[0m\u001b[0;34m)\u001b[0m\u001b[0;34m.\u001b[0m\u001b[0m__wrapped__\u001b[0m\u001b[0;34m(\u001b[0m\u001b[0;34m*\u001b[0m\u001b[0margs\u001b[0m\u001b[0;34m,\u001b[0m \u001b[0;34m**\u001b[0m\u001b[0mkwds\u001b[0m\u001b[0;34m)\u001b[0m\u001b[0;34m\u001b[0m\u001b[0;34m\u001b[0m\u001b[0m\n\u001b[0m\u001b[1;32m    440\u001b[0m     \u001b[0mweak_wrapped_fn\u001b[0m \u001b[0;34m=\u001b[0m \u001b[0mweakref\u001b[0m\u001b[0;34m.\u001b[0m\u001b[0mref\u001b[0m\u001b[0;34m(\u001b[0m\u001b[0mwrapped_fn\u001b[0m\u001b[0;34m)\u001b[0m\u001b[0;34m\u001b[0m\u001b[0;34m\u001b[0m\u001b[0m\n\u001b[1;32m    441\u001b[0m \u001b[0;34m\u001b[0m\u001b[0m\n",
      "\u001b[0;32m/home/gnanfack/.local/lib/python3.6/site-packages/tensorflow_core/python/saved_model/function_deserialization.py\u001b[0m in \u001b[0;36mrestored_function_body\u001b[0;34m(*args, **kwargs)\u001b[0m\n\u001b[1;32m    260\u001b[0m         .format(_pretty_format_positional(args), kwargs,\n\u001b[1;32m    261\u001b[0m                 \u001b[0mlen\u001b[0m\u001b[0;34m(\u001b[0m\u001b[0msaved_function\u001b[0m\u001b[0;34m.\u001b[0m\u001b[0mconcrete_functions\u001b[0m\u001b[0;34m)\u001b[0m\u001b[0;34m,\u001b[0m\u001b[0;34m\u001b[0m\u001b[0;34m\u001b[0m\u001b[0m\n\u001b[0;32m--> 262\u001b[0;31m                 \"\\n\\n\".join(signature_descriptions)))\n\u001b[0m\u001b[1;32m    263\u001b[0m \u001b[0;34m\u001b[0m\u001b[0m\n\u001b[1;32m    264\u001b[0m   \u001b[0mconcrete_function_objects\u001b[0m \u001b[0;34m=\u001b[0m \u001b[0;34m[\u001b[0m\u001b[0;34m]\u001b[0m\u001b[0;34m\u001b[0m\u001b[0;34m\u001b[0m\u001b[0m\n",
      "\u001b[0;31mValueError\u001b[0m: Could not find matching function to call loaded from the SavedModel. Got:\n  Positional arguments (1 total):\n    * Tensor(\"X:0\", shape=(75, 2), dtype=float32)\n  Keyword arguments: {}\n\nExpected these arguments to match one of the following 2 option(s):\n\nOption 1:\n  Positional arguments (1 total):\n    * TensorSpec(shape=(24, 2), dtype=tf.float32, name='X')\n  Keyword arguments: {}\n\nOption 2:\n  Positional arguments (1 total):\n    * TensorSpec(shape=(94, 2), dtype=tf.float32, name='X')\n  Keyword arguments: {}"
     ]
    }
   ],
   "source": [
    "X_train_exp = binarise(lower, upper, X_train)\n",
    "\n",
    "X_test_exp = binarise(lower, upper, X_test)\n",
    "\n",
    "bb_y_train = np.argmax(black_box.predict(X_train).numpy(), axis = -1)\n",
    "bb_y_test =  np.argmax(black_box.predict(X_test).numpy(), axis = -1)\n",
    "print(accuracy_score(bb_y_test, y_test))\n",
    "\n",
    "bb_y_train_2 = np.argmax(black_box2.predict(X_train).numpy(), axis = -1)\n",
    "bb_y_test_2 =  np.argmax(black_box2.predict(X_test).numpy(), axis = -1)\n",
    "print(accuracy_score(bb_y_test_2, y_test))\n",
    "\n"
   ]
  },
  {
   "cell_type": "code",
   "execution_count": 154,
   "metadata": {},
   "outputs": [
    {
     "data": {
      "text/plain": [
       "array([0, 0, 0, 0, 0, 0, 0, 0, 0, 0, 0, 0, 0, 0, 0, 0, 0, 0, 0, 0, 0, 0,\n",
       "       0, 0, 1, 1, 0, 1, 0, 0, 0, 0, 0, 1, 0, 0, 0, 0, 0, 0, 0, 0, 0, 0,\n",
       "       0, 0, 0, 0, 1, 1, 1, 1, 1, 1, 1, 0, 1, 1, 1, 1, 1, 1, 1, 1, 1, 1,\n",
       "       1, 1, 0, 1, 1, 1, 1, 1, 1, 1, 1, 1, 1, 1, 1, 1, 1, 1, 1, 1, 1, 1,\n",
       "       1, 1, 1, 1, 1, 1, 1, 1])"
      ]
     },
     "execution_count": 154,
     "metadata": {},
     "output_type": "execute_result"
    }
   ],
   "source": [
    "X_train_exp[0]"
   ]
  },
  {
   "cell_type": "code",
   "execution_count": 13,
   "metadata": {},
   "outputs": [],
   "source": [
    "n_min = min(5,round(X_train.shape[0]/90))\n",
    "\n",
    "#n_min = 2"
   ]
  },
  {
   "cell_type": "code",
   "execution_count": 157,
   "metadata": {},
   "outputs": [],
   "source": [
    "metrics_without = pd.read_csv(f\"images_black_box_NN/datasets/{dataset_name}_{fold}/{dataset_name}.csv\")\n",
    "metrics_with = pd.read_csv(f\"{location_co}/{dataset_name}_{hyper_params[dataset_name][1]}_{hyper_params[dataset_name][0]}_holdout.csv\")"
   ]
  },
  {
   "cell_type": "code",
   "execution_count": 156,
   "metadata": {},
   "outputs": [],
   "source": [
    "indices = np.random.RandomState(seed=111).permutation(X_train.shape[0])\n",
    "ind_train = indices[0:int(0.8* len(indices))]\n",
    "ind_val = indices[int(0.8*len(indices)):]\n",
    "\n",
    "result_metrics_V = {\"fidel_without\":[], \"fidel_BB_DT\": [], \"fidel_BB_STGMA_DT\": [], \n",
    "                  'depth' : []}\n",
    "acc_bb_without = accuracy_score(bb_y_test_2, y_test)\n",
    "acc_bb_with = accuracy_score(bb_y_test, y_test)\n",
    "for K in range(2, 6):\n",
    "    \n",
    "    dt1 = DecisionTreeClassifier(max_depth = K,random_state=111, min_samples_leaf=n_min)\n",
    "\n",
    "    dt1.fit(X_train[ind_train], y_train[ind_train])\n",
    "    dt2 = DecisionTreeClassifier(max_depth=K, random_state = 111, min_samples_leaf=n_min)\n",
    "\n",
    "    dt2.fit(X_train_exp[ind_train], bb_y_train[ind_train])\n",
    "\n",
    "    dt4 = DecisionTreeClassifier(max_depth=K,  random_state = 111, min_samples_leaf=n_min)\n",
    "\n",
    "    dt4.fit(X_train[ind_train], bb_y_train[ind_train])\n",
    "\n",
    "    dt5 = DecisionTreeClassifier(max_depth=K, random_state = 111, min_samples_leaf=n_min)\n",
    "\n",
    "    dt5.fit(X_train[ind_train], bb_y_train_2[ind_train])\n",
    "    \n",
    "    result_metrics_V['depth'].append(K)\n",
    "    result_metrics_V[\"fidel_without\"].append(accuracy_score(dt5.predict(X_train[ind_val]), bb_y_train_2[ind_val]))\n",
    "    result_metrics_V[\"fidel_BB_DT\"].append(accuracy_score(dt4.predict(X_train[ind_val]), bb_y_train[ind_val]))\n",
    "    result_metrics_V[\"fidel_BB_STGMA_DT\"].append(accuracy_score(dt2.predict(X_train_exp[ind_val]), bb_y_train[ind_val]))\n",
    "    "
   ]
  },
  {
   "cell_type": "code",
   "execution_count": 32,
   "metadata": {},
   "outputs": [
    {
     "name": "stdout",
     "output_type": "stream",
     "text": [
      "2\n",
      "0.9466666666666667\n",
      "0.9583333333333334\n"
     ]
    }
   ],
   "source": [
    "indices = np.random.RandomState(seed=111).permutation(X_train.shape[0])\n",
    "ind_train = indices[0:int(0.8* len(indices))]\n",
    "ind_val = indices[int(0.8*len(indices)):]\n",
    "\n",
    "\n",
    "result_metrics_V = {\"accuracy\":[], \n",
    "                  'depth' : []}\n",
    "for K in range(2, 6):\n",
    "    \n",
    "    dt1 = DecisionTreeClassifier(max_depth = K,random_state=111, min_samples_leaf=n_min)\n",
    "\n",
    "    dt1.fit(X_train[ind_train], y_train[ind_train])\n",
    "  \n",
    "    \n",
    "    result_metrics_V['depth'].append(K)\n",
    "    result_metrics_V[\"accuracy\"].append(accuracy_score(dt1.predict(X_train[ind_val]), y_train[ind_val]))\n",
    "\n",
    "dt1 = DecisionTreeClassifier(max_depth=result_metrics_V[\"depth\"][np.argmax(result_metrics_V[\"accuracy\"])],\n",
    "                                 min_samples_leaf=n_min, random_state=111)\n",
    "\n",
    "dt1.fit(X_train, y_train)\n",
    "print(result_metrics_V[\"depth\"][np.argmax(result_metrics_V[\"accuracy\"])])\n",
    "print(accuracy_score(dt1.predict(X_train), y_train))\n",
    "print(accuracy_score(dt1.predict(X_test), y_test))"
   ]
  },
  {
   "cell_type": "code",
   "execution_count": 158,
   "metadata": {},
   "outputs": [
    {
     "data": {
      "text/plain": [
       "{'fidel_without': [0.9024390243902439,\n",
       "  0.8943089430894309,\n",
       "  0.9024390243902439,\n",
       "  0.8943089430894309],\n",
       " 'fidel_BB_DT': [0.8861788617886179,\n",
       "  0.926829268292683,\n",
       "  0.9105691056910569,\n",
       "  0.926829268292683],\n",
       " 'fidel_BB_STGMA_DT': [0.943089430894309,\n",
       "  0.959349593495935,\n",
       "  0.967479674796748,\n",
       "  0.967479674796748],\n",
       " 'depth': [2, 3, 4, 5]}"
      ]
     },
     "execution_count": 158,
     "metadata": {},
     "output_type": "execute_result"
    }
   ],
   "source": [
    "result_metrics_V"
   ]
  },
  {
   "cell_type": "code",
   "execution_count": 159,
   "metadata": {},
   "outputs": [],
   "source": [
    "result_metrics = {\"fidel_without\":[], \"fidel_BB_DT\": [], \"fidel_BB_STGMA_DT\": [], 'depth' : []}\n",
    "acc_bb_without = accuracy_score(bb_y_test_2, y_test)\n",
    "acc_bb_with = accuracy_score(bb_y_test, y_test)\n",
    "\n",
    "dt2 = DecisionTreeClassifier(max_depth=result_metrics_V[\"depth\"][np.argmax(result_metrics_V[\"fidel_BB_STGMA_DT\"])],\n",
    "                                 min_samples_leaf=n_min, random_state=111)\n",
    "\n",
    "dt2.fit(X_train_exp, bb_y_train)\n",
    "\n",
    "dt4 = DecisionTreeClassifier(max_depth=result_metrics_V[\"depth\"][np.argmax(result_metrics_V[\"fidel_BB_DT\"])], \n",
    "                                 min_samples_leaf=n_min, random_state=111)\n",
    "\n",
    "dt4.fit(X_train, bb_y_train)\n",
    "\n",
    "dt5 = DecisionTreeClassifier(max_depth=result_metrics_V[\"depth\"][np.argmax(result_metrics_V[\"fidel_without\"])], min_samples_leaf=n_min, \n",
    "                             random_state=111)\n",
    "\n",
    "dt5.fit(X_train, bb_y_train_2)\n",
    "    \n",
    "\n",
    "result_metrics[\"fidel_without\"].append(accuracy_score(dt5.predict(X_test), bb_y_test_2))\n",
    "result_metrics[\"fidel_BB_DT\"].append(accuracy_score(dt4.predict(X_test), bb_y_test))\n",
    "result_metrics[\"fidel_BB_STGMA_DT\"].append(accuracy_score(dt2.predict(X_test_exp), bb_y_test))"
   ]
  },
  {
   "cell_type": "code",
   "execution_count": 160,
   "metadata": {},
   "outputs": [
    {
     "data": {
      "text/plain": [
       "{'fidel_without': [0.8311688311688312],\n",
       " 'fidel_BB_DT': [0.9090909090909091],\n",
       " 'fidel_BB_STGMA_DT': [0.8571428571428571],\n",
       " 'depth': []}"
      ]
     },
     "execution_count": 160,
     "metadata": {},
     "output_type": "execute_result"
    }
   ],
   "source": [
    "result_metrics"
   ]
  },
  {
   "cell_type": "code",
   "execution_count": 161,
   "metadata": {},
   "outputs": [
    {
     "data": {
      "image/png": "[encoded data removed]",
      "text/plain": [
       "<Figure size 432x288 with 2 Axes>"
      ]
     },
     "metadata": {
      "needs_background": "light"
     },
     "output_type": "display_data"
    }
   ],
   "source": [
    "N = min(metrics_with.shape[0], metrics_without.shape[0])\n",
    "plt.subplot(1, 2, 1)\n",
    "plt.plot(metrics_with[\"train_acc_bb\"][:N], color='red', alpha = 0.4, label=\"train_acc_coBB\", linewidth=2.)\n",
    "plt.plot(metrics_without[\"train_acc_bb\"][:N], color='blue', alpha = 0.4, label=\"train_acc_BB\", linewidth=2.)\n",
    "plt.plot(metrics_with[\"train_acc_stgma\"][:N], color='green', alpha = 0.4, label=\"train_acc_STruGMA\", linewidth=2.)\n",
    "plt.plot(metrics_with[\"train_fidel\"][:N], color='black', alpha = 0.4, label=\"train_fidel\", linewidth=2.)\n",
    "plt.xlabel(\"Epochs\")\n",
    "plt.legend()\n",
    "\n",
    "\n",
    "plt.subplot(1, 2, 2)\n",
    "plt.plot(metrics_with[\"test_acc_bb\"][:N], color='red', alpha = 0.4, label=\"test_acc_coBB\", linewidth=2.)\n",
    "plt.plot(metrics_without[\"test_acc_bb\"][:N], color='blue', alpha = 0.4, label=\"test_acc_BB\", linewidth=2.)\n",
    "plt.plot(metrics_with[\"test_acc_stgma\"][:N], color='green', alpha = 0.4, label=\"test_acc_STruGMA\", linewidth=2.)\n",
    "plt.plot(metrics_with[\"test_fidel\"][:N], color='black', alpha = 0.4, label=\"test_fidel\", linewidth=2.)\n",
    "plt.xlabel(\"Epochs\")\n",
    "#plt.scale('log')\n",
    "plt.legend()\n",
    "#plt.legend(ncol = 4)\n",
    "plt.savefig(f\"results/{dataset_name}_curves.png\", bbox_inches = 'tight', pad_inches = 0, dpi=300)"
   ]
  },
  {
   "cell_type": "code",
   "execution_count": 130,
   "metadata": {},
   "outputs": [
    {
     "data": {
      "image/png": "[encoded data removed]",
      "text/plain": [
       "<Figure size 432x216 with 2 Axes>"
      ]
     },
     "metadata": {
      "needs_background": "light"
     },
     "output_type": "display_data"
    }
   ],
   "source": [
    "N = min(metrics_with.shape[0], metrics_without.shape[0])\n",
    "plt.figure(figsize=(6,3))\n",
    "plt.subplot(1, 2, 1)\n",
    "plt.plot(metrics_with[\"cross_entropy\"][:N], color='red', alpha = 0.4, label=\"cross_entropy_coBB\", linewidth=2.)\n",
    "plt.plot(metrics_with[\"shareloss1\"][:N], color='blue', alpha = 0.4, label=\"add_KL\", linewidth=2.)\n",
    "\n",
    "plt.xlabel(\"Epochs\")\n",
    "plt.legend()\n",
    "\n",
    "\n",
    "plt.subplot(1, 2, 2)\n",
    "plt.plot(metrics_with[\"expected_loglikel\"][:N], color='blue', alpha = 0.4, label=\"neg_expected_log_LL\", linewidth=2.)\n",
    "\n",
    "plt.xlabel(\"Epochs\")\n",
    "#plt.scale('log')\n",
    "\n",
    "plt.legend()\n",
    "plt.savefig(f\"results/{dataset_name}_losses_c_bis.png\", bbox_inches = 'tight', pad_inches = 0, dpi=300)"
   ]
  },
  {
   "cell_type": "code",
   "execution_count": 53,
   "metadata": {},
   "outputs": [
    {
     "data": {
      "text/plain": [
       "array([3.325e+00, 4.638e+00, 6.221e+01, 3.333e-03, 1.100e-01, 7.767e-01,\n",
       "       7.333e-02, 2.333e-02, 1.333e-02, 0.000e+00, 2.867e-01, 6.767e-01,\n",
       "       3.667e-02, 9.400e-01, 6.000e-02, 8.633e-01, 1.367e-01, 9.367e-01,\n",
       "       6.333e-02, 3.000e-01, 7.000e-01, 8.600e-01, 1.400e-01, 3.600e-01,\n",
       "       5.400e-01, 5.000e-02, 5.000e-02, 9.233e-01, 7.667e-02, 9.933e-01,\n",
       "       6.667e-03, 9.833e-01, 1.667e-02, 1.833e-01, 8.167e-01, 9.933e-01,\n",
       "       6.667e-03])"
      ]
     },
     "execution_count": 53,
     "metadata": {},
     "output_type": "execute_result"
    }
   ],
   "source": [
    "scaler.mean_"
   ]
  },
  {
   "cell_type": "code",
   "execution_count": 54,
   "metadata": {},
   "outputs": [
    {
     "data": {
      "text/plain": [
       "True"
      ]
     },
     "execution_count": 54,
     "metadata": {},
     "output_type": "execute_result"
    }
   ],
   "source": [
    "graph = export_graphviz(dt1, filled=True, feature_names=column_names[:-1])\n",
    "graph = pydotplus.graph_from_dot_data(graph)\n",
    "graph.write_png(f'trees/dt1_{dataset_name}.png') "
   ]
  },
  {
   "cell_type": "code",
   "execution_count": 55,
   "metadata": {},
   "outputs": [
    {
     "data": {
      "text/plain": [
       "True"
      ]
     },
     "execution_count": 55,
     "metadata": {},
     "output_type": "execute_result"
    }
   ],
   "source": [
    "graph = export_graphviz(dt2, filled=True, feature_names=columns_lower + columns_upper)\n",
    "export_graphviz(dt2, filled=True, out_file=\"trees/outfile2.dot\", feature_names=columns_lower + columns_upper)\n",
    "graph=pydotplus.graph_from_dot_data(graph)\n",
    "graph.write_png(f'trees/dt2_{dataset_name}_bis.png') "
   ]
  },
  {
   "cell_type": "code",
   "execution_count": 34,
   "metadata": {},
   "outputs": [
    {
     "ename": "AttributeError",
     "evalue": "'str' object has no attribute 'render'",
     "output_type": "error",
     "traceback": [
      "\u001b[0;31m---------------------------------------------------------------------------\u001b[0m",
      "\u001b[0;31mAttributeError\u001b[0m                            Traceback (most recent call last)",
      "\u001b[0;32m<ipython-input-34-ff975a0331fa>\u001b[0m in \u001b[0;36m<module>\u001b[0;34m\u001b[0m\n\u001b[1;32m      1\u001b[0m \u001b[0mgraph\u001b[0m \u001b[0;34m=\u001b[0m \u001b[0mexport_graphviz\u001b[0m\u001b[0;34m(\u001b[0m\u001b[0mdt4\u001b[0m\u001b[0;34m,\u001b[0m \u001b[0mfilled\u001b[0m\u001b[0;34m=\u001b[0m\u001b[0;32mTrue\u001b[0m\u001b[0;34m,\u001b[0m \u001b[0mfeature_names\u001b[0m\u001b[0;34m=\u001b[0m\u001b[0mcolumn_names\u001b[0m\u001b[0;34m[\u001b[0m\u001b[0;34m:\u001b[0m\u001b[0;34m-\u001b[0m\u001b[0;36m1\u001b[0m\u001b[0;34m]\u001b[0m\u001b[0;34m)\u001b[0m\u001b[0;34m\u001b[0m\u001b[0;34m\u001b[0m\u001b[0m\n\u001b[0;32m----> 2\u001b[0;31m \u001b[0mgraph\u001b[0m\u001b[0;34m.\u001b[0m\u001b[0mrender\u001b[0m\u001b[0;34m(\u001b[0m\u001b[0;34m\"outfile2\"\u001b[0m\u001b[0;34m)\u001b[0m\u001b[0;34m\u001b[0m\u001b[0;34m\u001b[0m\u001b[0m\n\u001b[0m\u001b[1;32m      3\u001b[0m \u001b[0mgraph\u001b[0m\u001b[0;34m=\u001b[0m\u001b[0mpydotplus\u001b[0m\u001b[0;34m.\u001b[0m\u001b[0mgraph_from_dot_data\u001b[0m\u001b[0;34m(\u001b[0m\u001b[0mgraph\u001b[0m\u001b[0;34m)\u001b[0m\u001b[0;34m\u001b[0m\u001b[0;34m\u001b[0m\u001b[0m\n\u001b[1;32m      4\u001b[0m \u001b[0mgraph\u001b[0m\u001b[0;34m.\u001b[0m\u001b[0mwrite_png\u001b[0m\u001b[0;34m(\u001b[0m\u001b[0;34mf'trees/dt4_{dataset_name}.png'\u001b[0m\u001b[0;34m)\u001b[0m\u001b[0;34m\u001b[0m\u001b[0;34m\u001b[0m\u001b[0m\n",
      "\u001b[0;31mAttributeError\u001b[0m: 'str' object has no attribute 'render'"
     ]
    }
   ],
   "source": [
    "graph = export_graphviz(dt4, filled=True, feature_names=column_names[:-1])\n",
    "graph=pydotplus.graph_from_dot_data(graph)\n",
    "graph.write_png(f'trees/dt4_{dataset_name}.png') "
   ]
  },
  {
   "cell_type": "code",
   "execution_count": 18,
   "metadata": {},
   "outputs": [
    {
     "data": {
      "text/plain": [
       "True"
      ]
     },
     "execution_count": 18,
     "metadata": {},
     "output_type": "execute_result"
    }
   ],
   "source": [
    "graph=export_graphviz(dt1, filled=True, feature_names=column_names[:-1])\n",
    "graph=pydotplus.graph_from_dot_data(graph)\n",
    "graph.write_png(f'trees/dt5_{dataset_name}.png') "
   ]
  },
  {
   "cell_type": "code",
   "execution_count": 31,
   "metadata": {},
   "outputs": [
    {
     "data": {
      "text/plain": [
       "0.8333333333333334"
      ]
     },
     "execution_count": 31,
     "metadata": {},
     "output_type": "execute_result"
    }
   ],
   "source": [
    "accuracy_score(dt5.predict(X_test),y_test)"
   ]
  },
  {
   "cell_type": "code",
   "execution_count": null,
   "metadata": {},
   "outputs": [],
   "source": []
  },
  {
   "cell_type": "code",
   "execution_count": 28,
   "metadata": {},
   "outputs": [
    {
     "data": {
      "text/plain": [
       "0.8333333333333334"
      ]
     },
     "execution_count": 28,
     "metadata": {},
     "output_type": "execute_result"
    }
   ],
   "source": [
    "accuracy_score(dt5.predict(X_test), y_test)"
   ]
  },
  {
   "cell_type": "code",
   "execution_count": 32,
   "metadata": {},
   "outputs": [
    {
     "data": {
      "text/plain": [
       "0.8166666666666667"
      ]
     },
     "execution_count": 32,
     "metadata": {},
     "output_type": "execute_result"
    }
   ],
   "source": [
    "accuracy_score(dt4.predict(X_test), y_test)"
   ]
  },
  {
   "cell_type": "code",
   "execution_count": 33,
   "metadata": {},
   "outputs": [
    {
     "data": {
      "text/plain": [
       "0.8"
      ]
     },
     "execution_count": 33,
     "metadata": {},
     "output_type": "execute_result"
    }
   ],
   "source": [
    "accuracy_score(dt2.predict(X_test_exp), y_test)"
   ]
  },
  {
   "cell_type": "code",
   "execution_count": 34,
   "metadata": {},
   "outputs": [
    {
     "data": {
      "text/plain": [
       "0.8333333333333334"
      ]
     },
     "execution_count": 34,
     "metadata": {},
     "output_type": "execute_result"
    }
   ],
   "source": [
    "accuracy_score(bb_y_test, y_test)"
   ]
  },
  {
   "cell_type": "code",
   "execution_count": 26,
   "metadata": {},
   "outputs": [
    {
     "data": {
      "text/plain": [
       "0.8"
      ]
     },
     "execution_count": 26,
     "metadata": {},
     "output_type": "execute_result"
    }
   ],
   "source": [
    "accuracy_score(dt1.predict(X_test), y_test)"
   ]
  },
  {
   "cell_type": "code",
   "execution_count": null,
   "metadata": {},
   "outputs": [],
   "source": [
    "K= 4\n",
    "dt1 = DecisionTreeClassifier(max_depth = K, min_samples_leaf=n_min)\n",
    "\n",
    "dt1.fit(X_train, y_train)\n",
    "\n",
    "dt2 = DecisionTreeClassifier(max_depth=K, min_samples_leaf=n_min)\n",
    "\n",
    "dt2.fit(X_train_exp, bb_y_train)\n",
    "\n",
    "dt4 = DecisionTreeClassifier(max_depth=K, min_samples_leaf=n_min)\n",
    "\n",
    "dt4.fit(X_train, bb_y_train)\n",
    "\n",
    "dt5 = DecisionTreeClassifier(max_depth=K, min_samples_leaf=n_min)\n",
    "\n",
    "dt5.fit(X_train, bb_y_train_2)"
   ]
  },
  {
   "cell_type": "code",
   "execution_count": 35,
   "metadata": {},
   "outputs": [
    {
     "name": "stderr",
     "output_type": "stream",
     "text": [
      "DEBUG:weka.core.jvm:Adding bundled jars\n",
      "DEBUG:weka.core.jvm:Classpath=['/home/gnanfack/.local/lib/python3.6/site-packages/javabridge/jars/rhino-1.7R4.jar', '/home/gnanfack/.local/lib/python3.6/site-packages/javabridge/jars/runnablequeue.jar', '/home/gnanfack/.local/lib/python3.6/site-packages/javabridge/jars/cpython.jar', '/home/gnanfack/.local/lib/python3.6/site-packages/weka/lib/python-weka-wrapper.jar', '/home/gnanfack/.local/lib/python3.6/site-packages/weka/lib/weka.jar']\n",
      "DEBUG:weka.core.jvm:MaxHeapSize=default\n",
      "DEBUG:weka.core.jvm:Package support disabled\n"
     ]
    }
   ],
   "source": [
    "import weka.core.jvm as jvm\n",
    "jvm.start()\n"
   ]
  },
  {
   "cell_type": "code",
   "execution_count": 157,
   "metadata": {},
   "outputs": [],
   "source": [
    "from weka.core.dataset import create_instances_from_matrices\n",
    "from weka.classifiers import Classifier, Evaluation\n",
    "import weka.plot.classifiers as plot_cls\n",
    "import weka.plot.graph as plot_graph\n",
    "from weka.filters import Filter\n",
    "cls = Classifier(classname=\"weka.classifiers.rules.JRip\", options=[\"-N\", f\"{str(n_min)}\", \"-P\"])"
   ]
  },
  {
   "cell_type": "code",
   "execution_count": 164,
   "metadata": {},
   "outputs": [],
   "source": [
    "dataset = create_instances_from_matrices(X_train, bb_y_train, name=\"generated from matrices\")\n",
    "dataset.class_is_last()\n",
    "\n",
    "\n",
    "nominal = Filter(classname=\"weka.filters.unsupervised.attribute.NumericToNominal\", options=[\"-R\", \"last\"])\n",
    "nominal.inputformat(dataset)\n",
    "nominaldata1 = nominal.filter(dataset)\n",
    "nominaldata1.class_is_last()\n",
    "\n",
    "cls.build_classifier(nominaldata1)"
   ]
  },
  {
   "cell_type": "code",
   "execution_count": 165,
   "metadata": {},
   "outputs": [
    {
     "name": "stdout",
     "output_type": "stream",
     "text": [
      "JRIP rules:\n",
      "===========\n",
      "\n",
      "(x2 >= 0.680699) and (x6 >= -0.252935) => y=1 (117.0/0.0)\n",
      "(x2 >= 0.437074) and (x1 >= 0.333032) => y=1 (27.0/0.0)\n",
      "(x2 >= 0.162996) and (x6 >= 0.512967) and (x4 >= 0.356128) => y=1 (17.0/0.0)\n",
      "(x2 >= 1.046137) => y=1 (8.0/0.0)\n",
      "(x6 >= -0.559295) and (x2 >= 0.650246) and (x1 >= -0.54768) => y=1 (7.0/0.0)\n",
      " => y=0 (438.0/15.0)\n",
      "\n",
      "Number of Rules : 6\n",
      "\n"
     ]
    }
   ],
   "source": [
    "print(cls)\n"
   ]
  },
  {
   "cell_type": "code",
   "execution_count": 168,
   "metadata": {},
   "outputs": [],
   "source": [
    "dataset = create_instances_from_matrices(X_test, bb_y_test, name=\"Test\")\n",
    "dataset.class_is_last()\n",
    "\n",
    "\n",
    "nominal = Filter(classname=\"weka.filters.unsupervised.attribute.NumericToNominal\", options=[\"-R\", \"last\"])\n",
    "nominal.inputformat(dataset)\n",
    "nominaldata1 = nominal.filter(dataset)\n",
    "nominaldata1.class_is_last()"
   ]
  },
  {
   "cell_type": "code",
   "execution_count": 169,
   "metadata": {},
   "outputs": [
    {
     "name": "stdout",
     "output_type": "stream",
     "text": [
      "\n",
      "Correctly Classified Instances         146               94.8052 %\n",
      "Incorrectly Classified Instances         8                5.1948 %\n",
      "Kappa statistic                          0.8709\n",
      "Mean absolute error                      0.0749\n",
      "Root mean squared error                  0.2259\n",
      "Relative absolute error                 18.5389 %\n",
      "Root relative squared error             50.3457 %\n",
      "Total Number of Instances              154     \n",
      "\n"
     ]
    }
   ],
   "source": [
    "evaluation = Evaluation(nominaldata1)\n",
    "evl = evaluation.test_model(cls, nominaldata1)\n",
    "\n",
    "print(evaluation.summary())"
   ]
  },
  {
   "cell_type": "code",
   "execution_count": 88,
   "metadata": {},
   "outputs": [
    {
     "data": {
      "text/plain": [
       "<Figure size 648x486 with 0 Axes>"
      ]
     },
     "metadata": {},
     "output_type": "display_data"
    }
   ],
   "source": [
    "plt.rcParams[\"figure.figsize\"] = (9,6.75)\n",
    "\n",
    "X1 = X_train[:,0]\n",
    "X2 = X_train[:,1]\n",
    "steps = 1000\n",
    "cmap = colors.ListedColormap(list(color_map.values())[:len(np.unique(y_train))])\n",
    "# Define region of interest by data limits\n",
    "deltaX = (max(X1) - min(X1))/10\n",
    "deltaY = (max(X2) - min(X2))/10\n",
    "\n",
    "xmin, xmax = min(X1) - deltaX, max(X1) + deltaX\n",
    "ymin, ymax = min(X2) - deltaY, max(X2) + deltaY\n",
    "\n",
    "x_span = np.linspace(xmin, xmax, steps)\n",
    "y_span = np.linspace(ymin, ymax, steps)\n",
    "xx, yy = np.meshgrid(x_span, y_span)\n",
    "\n",
    "# Make predictions across region of interest\n",
    "labels_dt = dt4.predict(np.c_[xx.ravel(), yy.ravel()])\n",
    "#labels_dt = np.argmax(labels_bb, axis = 1)\n",
    "\n",
    "#plt.subplot(2, 1, 1)\n",
    "z1 = labels_dt.reshape(xx.shape)\n",
    "ranges = np.linspace(z1.min(), z1.max(), len(color_map.values())+1)\n",
    "norm = colors.BoundaryNorm(ranges, cmap.N)\n",
    "\n",
    "\n",
    "plt.contourf(xx, yy, z1, alpha=0.2, cmap = cmap, norm=norm)\n",
    "\n",
    "plt.scatter(X1, X2, c = [color_map[y_train[i]] for i in range(X_train.shape[0])],  edgecolor='k', lw=0, cmap=\"Set1\")\n",
    "currentAxis = plt.gca()\n",
    "\n",
    "plt.savefig(f\"dt_post_hoc.png\")\n",
    "plt.clf()"
   ]
  },
  {
   "cell_type": "code",
   "execution_count": 90,
   "metadata": {},
   "outputs": [
    {
     "data": {
      "text/plain": [
       "<Figure size 648x486 with 0 Axes>"
      ]
     },
     "metadata": {},
     "output_type": "display_data"
    }
   ],
   "source": [
    "X1 = X_train[:,0]\n",
    "X2 = X_train[:,1]\n",
    "steps = 1000\n",
    "plt.rcParams[\"figure.figsize\"] = (9,6.75)\n",
    "cmap = colors.ListedColormap(list(color_map.values())[:len(np.unique(y_train))])\n",
    "# Define region of interest by data limits\n",
    "deltaX = (max(X1) - min(X1))/10\n",
    "deltaY = (max(X2) - min(X2))/10\n",
    "\n",
    "xmin, xmax = min(X1) - deltaX, max(X1) + deltaX\n",
    "ymin, ymax = min(X2) - deltaY, max(X2) + deltaY\n",
    "\n",
    "x_span = np.linspace(xmin, xmax, steps)\n",
    "y_span = np.linspace(ymin, ymax, steps)\n",
    "xx, yy = np.meshgrid(x_span, y_span)\n",
    "\n",
    "# Make predictions across region of interest\n",
    "labels_dt = dt2.predict(binarise(lower, upper,np.c_[xx.ravel(), yy.ravel()]))\n",
    "#labels_dt = np.argmax(labels_bb, axis = 1)\n",
    "\n",
    "#plt.subplot(2, 1, 1)\n",
    "z1 = labels_dt.reshape(xx.shape)\n",
    "ranges = np.linspace(z1.min(), z1.max(), len(color_map.values())+1)\n",
    "norm = colors.BoundaryNorm(ranges, cmap.N)\n",
    "\n",
    "\n",
    "plt.contourf(xx, yy, z1, alpha=0.2, cmap = cmap, norm=norm)\n",
    "\n",
    "plt.scatter(X1, X2, c = [color_map[y_train[i]] for i in range(X_train.shape[0])],  edgecolor='k', lw=0, cmap=\"Set1\")\n",
    "currentAxis = plt.gca()\n",
    "\n",
    "plt.savefig(f\"dt_post_hoc_with_regul.png\")\n",
    "plt.clf()"
   ]
  },
  {
   "cell_type": "code",
   "execution_count": 24,
   "metadata": {},
   "outputs": [
    {
     "data": {
      "text/plain": [
       "1.0"
      ]
     },
     "execution_count": 24,
     "metadata": {},
     "output_type": "execute_result"
    }
   ],
   "source": [
    "dataset_name = \"student_performance\"    \n",
    "\n",
    "X_train, y_train, X_test, y_test, y_train_onehot, y_test_onehot, scaler, color_map, column_names = \\\n",
    "        data_to_interpret(dataset_name, 0)\n",
    "\n",
    "location_without = f\"images_black_box_NN/datasets/{dataset_name}_0/bb_weights\"\n",
    "black_box2 = tf.saved_model.load(location_without)\n",
    "\n",
    "dt5 = DecisionTreeClassifier(max_depth=3, min_samples_leaf=2)\n",
    "bb_y_train_2 = np.argmax(black_box2.predict(X_train).numpy(), axis = -1)\n",
    "bb_y_test_2 =  np.argmax(black_box2.predict(X_test).numpy(), axis = -1)\n",
    "dt5.fit(X_train, bb_y_train_2)\n",
    "accuracy_score(dt5.predict(X_test), bb_y_test_2)"
   ]
  },
  {
   "cell_type": "code",
   "execution_count": 25,
   "metadata": {},
   "outputs": [
    {
     "name": "stdout",
     "output_type": "stream",
     "text": [
      "1.0\n",
      "1.0\n"
     ]
    }
   ],
   "source": [
    "dt1 = DecisionTreeClassifier(max_depth = 3, min_samples_leaf=2)\n",
    "\n",
    "dt1.fit(X_train, y_train)\n",
    "print(accuracy_score(dt1.predict(X_train), y_train))\n",
    "print(accuracy_score(dt1.predict(X_test), y_test))"
   ]
  },
  {
   "cell_type": "code",
   "execution_count": 31,
   "metadata": {},
   "outputs": [
    {
     "data": {
      "text/plain": [
       "['duration_month',\n",
       " 'credit_amount',\n",
       " 'installment_rate',\n",
       " 'residence_since',\n",
       " 'age',\n",
       " 'number_of_existing_credits',\n",
       " 'number_people_maintenance',\n",
       " 'Class',\n",
       " 'status_account_A11',\n",
       " 'status_account_A12',\n",
       " 'status_account_A13',\n",
       " 'status_account_A14',\n",
       " 'credit_history_A30',\n",
       " 'credit_history_A31',\n",
       " 'credit_history_A32',\n",
       " 'credit_history_A33',\n",
       " 'credit_history_A34',\n",
       " 'purpose_A40',\n",
       " 'purpose_A41',\n",
       " 'purpose_A410',\n",
       " 'purpose_A42',\n",
       " 'purpose_A43',\n",
       " 'purpose_A44',\n",
       " 'purpose_A45',\n",
       " 'purpose_A46',\n",
       " 'purpose_A48',\n",
       " 'purpose_A49',\n",
       " 'savings_account_A61',\n",
       " 'savings_account_A62',\n",
       " 'savings_account_A63',\n",
       " 'savings_account_A64',\n",
       " 'savings_account_A65',\n",
       " 'present_employment_since_A71',\n",
       " 'present_employment_since_A72',\n",
       " 'present_employment_since_A73',\n",
       " 'present_employment_since_A74',\n",
       " 'present_employment_since_A75',\n",
       " 'personal_status_sex_A91',\n",
       " 'personal_status_sex_A92',\n",
       " 'personal_status_sex_A93',\n",
       " 'personal_status_sex_A94',\n",
       " 'other_debtors_A101',\n",
       " 'other_debtors_A102',\n",
       " 'other_debtors_A103',\n",
       " 'property_A121',\n",
       " 'property_A122',\n",
       " 'property_A123',\n",
       " 'property_A124',\n",
       " 'other_installment_plans_A141',\n",
       " 'other_installment_plans_A142',\n",
       " 'other_installment_plans_A143',\n",
       " 'housing_A151',\n",
       " 'housing_A152',\n",
       " 'housing_A153',\n",
       " 'job_A171',\n",
       " 'job_A172',\n",
       " 'job_A173',\n",
       " 'job_A174',\n",
       " 'telephone_A191',\n",
       " 'telephone_A192',\n",
       " 'foreign_worker_A201',\n",
       " 'foreign_worker_A202']"
      ]
     },
     "execution_count": 31,
     "metadata": {},
     "output_type": "execute_result"
    }
   ],
   "source": [
    "column_names"
   ]
  }
 ],
 "metadata": {
  "kernelspec": {
   "display_name": "Python 3",
   "language": "python",
   "name": "python3"
  },
  "language_info": {
   "codemirror_mode": {
    "name": "ipython",
    "version": 3
   },
   "file_extension": ".py",
   "mimetype": "text/x-python",
   "name": "python",
   "nbconvert_exporter": "python",
   "pygments_lexer": "ipython3",
   "version": "3.6.9"
  }
 },
 "nbformat": 4,
 "nbformat_minor": 4
}
