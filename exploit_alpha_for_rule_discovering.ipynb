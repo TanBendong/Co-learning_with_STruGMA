{
 "cells": [
  {
   "cell_type": "code",
   "execution_count": 1,
   "metadata": {},
   "outputs": [],
   "source": [
    "import numpy as np\n",
    "import os\n",
    "from time import time\n",
    "import datetime\n",
    "import gc\n",
    "\n",
    "from sklearn.metrics import accuracy_score, f1_score, auc\n",
    "from sklearn.tree import DecisionTreeClassifier, plot_tree, export_graphviz\n",
    "from matplotlib import pyplot as plt\n",
    "from matplotlib import colors\n",
    "import pydotplus\n",
    "\n",
    "\n",
    "import tensorflow.compat.v2 as tf\n",
    "import tensorflow_probability as tfp\n",
    "from tensorboard.plugins.hparams import api as hp\n",
    "\n",
    "from read_dataset_for_constraint import switch_dataset, data_to_interpret\n",
    "\n",
    "from utils import plot_boundaries_hyperrect\n",
    "from sTGMA import SoftTruncatedGaussianMixtureAnalysis\n",
    "\n",
    "from black_box import BlackBoxNN\n",
    "from config import  config_params, hyper_params"
   ]
  },
  {
   "cell_type": "code",
   "execution_count": 43,
   "metadata": {},
   "outputs": [],
   "source": [
    " \n",
    "dataset_name = \"pima_indian_diabetes\"    \n",
    "\n",
    "X_train, y_train, X_test, y_test, y_train_onehot, y_test_onehot, scaler, color_map, column_names = \\\n",
    "        data_to_interpret(dataset_name, 0)"
   ]
  },
  {
   "cell_type": "code",
   "execution_count": 44,
   "metadata": {},
   "outputs": [
    {
     "data": {
      "text/plain": [
       "(614, 8)"
      ]
     },
     "execution_count": 44,
     "metadata": {},
     "output_type": "execute_result"
    }
   ],
   "source": [
    "X_train.shape"
   ]
  },
  {
   "cell_type": "code",
   "execution_count": 45,
   "metadata": {},
   "outputs": [
    {
     "data": {
      "text/plain": [
       "['Pregnancies',\n",
       " 'Glucose',\n",
       " 'BloodPressure',\n",
       " 'SkinThickness',\n",
       " 'Insulin',\n",
       " 'BMI',\n",
       " 'DiabetesPedigreeFunction',\n",
       " 'Age',\n",
       " 'Class']"
      ]
     },
     "execution_count": 45,
     "metadata": {},
     "output_type": "execute_result"
    }
   ],
   "source": [
    "column_names"
   ]
  },
  {
   "cell_type": "code",
   "execution_count": 48,
   "metadata": {},
   "outputs": [
    {
     "name": "stdout",
     "output_type": "stream",
     "text": [
      "WARNING:tensorflow:Importing a function (__inference_sample_importance_5904) with ops with custom gradients. Will likely fail if a gradient is requested.\n",
      "WARNING:tensorflow:Importing a function (__inference_sample_importance_5904) with ops with custom gradients. Will likely fail if a gradient is requested.\n",
      "WARNING:tensorflow:Importing a function (__inference_sample_importance_5904) with ops with custom gradients. Will likely fail if a gradient is requested.\n",
      "WARNING:tensorflow:Importing a function (__inference_sample_importance_5904) with ops with custom gradients. Will likely fail if a gradient is requested.\n",
      "WARNING:tensorflow:Importing a function (__inference_sample_importance_5904) with ops with custom gradients. Will likely fail if a gradient is requested.\n",
      "WARNING:tensorflow:Importing a function (__inference_sample_importance_5904) with ops with custom gradients. Will likely fail if a gradient is requested.\n"
     ]
    }
   ],
   "source": [
    "n_components = 3\n",
    "_lambda = 5\n",
    "arch = [128, 128]\n",
    "\n",
    "black_box = tf.saved_model.load(f\"./results/holdout/{dataset_name}/components_{n_components}_lambda_{_lambda}_toto/fold_0/bb_weights\")\n",
    "\n",
    "stgma = tf.saved_model.load(f\"./results/holdout/{dataset_name}/components_{n_components}_lambda_{_lambda}_toto/fold_0/stgma_weights\")\n"
   ]
  },
  {
   "cell_type": "code",
   "execution_count": 49,
   "metadata": {},
   "outputs": [],
   "source": [
    "lower = stgma.lower.numpy()\n",
    "upper = stgma.upper.numpy()\n",
    "\n",
    "np.set_printoptions(precision=3)\n",
    "inv_lower = np.around(scaler.inverse_transform(lower),2)\n",
    "inv_upper = np.around(scaler.inverse_transform(upper),2)\n",
    "\n",
    "columns_lower = [f\"{column_names[i]}_{k}{c}_less_{str(inv_lower[c,k,i])}\" for c in range(lower.shape[0]) for k in range(lower.shape[1]) for i in range(lower.shape[2])]\n",
    "columns_upper = [f\"{column_names[i]}_{k}{c}_less_{str(inv_upper[c,k,i])}\" for c in range(lower.shape[0]) for k in range(lower.shape[1]) for i in range(lower.shape[2])]\n",
    "\n",
    "\n",
    "def binarise(lower, upper, X):\n",
    "    alpha1 = np.reshape(lower, (lower.shape[0]*lower.shape[1], -1))\n",
    "    alpha2 = np.reshape(upper, (upper.shape[0]*lower.shape[1], -1))\n",
    "    \n",
    "    X_low = (np.expand_dims(X, axis = 1) < alpha1) + 0\n",
    "\n",
    "    X_upp = (np.expand_dims(X, axis = 1) < alpha2) + 0\n",
    "    \n",
    "    X_ = np.concatenate((X_low, X_upp), axis=1)\n",
    "    \n",
    "    return np.reshape(X_, (X_.shape[0], X_.shape[1]*X_.shape[2]))"
   ]
  },
  {
   "cell_type": "code",
   "execution_count": 50,
   "metadata": {},
   "outputs": [
    {
     "data": {
      "text/plain": [
       "0.7402597402597403"
      ]
     },
     "execution_count": 50,
     "metadata": {},
     "output_type": "execute_result"
    }
   ],
   "source": [
    "X_train_exp = binarise(lower, upper, X_train)\n",
    "\n",
    "X_test_exp = binarise(lower, upper, X_test)\n",
    "\n",
    "bb_y_train = np.argmax(black_box.predict(X_train).numpy(), axis = -1)\n",
    "bb_y_test =  np.argmax(black_box.predict(X_test).numpy(), axis = -1)\n",
    "accuracy_score(bb_y_test, y_test)\n"
   ]
  },
  {
   "cell_type": "code",
   "execution_count": 143,
   "metadata": {},
   "outputs": [
    {
     "data": {
      "text/plain": [
       "7"
      ]
     },
     "execution_count": 143,
     "metadata": {},
     "output_type": "execute_result"
    }
   ],
   "source": [
    "n_min = round(X_train.shape[0]/90)\n",
    "n_min"
   ]
  },
  {
   "cell_type": "code",
   "execution_count": 183,
   "metadata": {},
   "outputs": [
    {
     "data": {
      "text/plain": [
       "DecisionTreeClassifier(ccp_alpha=0.0, class_weight=None, criterion='gini',\n",
       "                       max_depth=4, max_features=None, max_leaf_nodes=None,\n",
       "                       min_impurity_decrease=0.0, min_impurity_split=None,\n",
       "                       min_samples_leaf=7, min_samples_split=2,\n",
       "                       min_weight_fraction_leaf=0.0, presort='deprecated',\n",
       "                       random_state=None, splitter='best')"
      ]
     },
     "execution_count": 183,
     "metadata": {},
     "output_type": "execute_result"
    }
   ],
   "source": [
    "\n",
    "K = 4\n",
    "\n",
    "dt1 = DecisionTreeClassifier(max_depth = K, min_samples_leaf=n_min)\n",
    "\n",
    "dt1.fit(X_train, y_train)\n",
    "\n",
    "dt2 = DecisionTreeClassifier(max_depth=K, min_samples_leaf=n_min)\n",
    "\n",
    "dt2.fit(X_train_exp, bb_y_train)\n",
    "\n",
    "dt4 = DecisionTreeClassifier(max_depth=K, min_samples_leaf=n_min)\n",
    "\n",
    "dt4.fit(X_train, bb_y_train)\n"
   ]
  },
  {
   "cell_type": "code",
   "execution_count": 184,
   "metadata": {},
   "outputs": [
    {
     "data": {
      "text/plain": [
       "0.7402597402597403"
      ]
     },
     "execution_count": 184,
     "metadata": {},
     "output_type": "execute_result"
    }
   ],
   "source": [
    "accuracy_score(bb_y_test, y_test)"
   ]
  },
  {
   "cell_type": "code",
   "execution_count": 185,
   "metadata": {},
   "outputs": [
    {
     "data": {
      "text/plain": [
       "0.7142857142857143"
      ]
     },
     "execution_count": 185,
     "metadata": {},
     "output_type": "execute_result"
    }
   ],
   "source": [
    "accuracy_score(dt1.predict(X_test), y_test)\n"
   ]
  },
  {
   "cell_type": "code",
   "execution_count": 186,
   "metadata": {},
   "outputs": [
    {
     "data": {
      "text/plain": [
       "0.7077922077922078"
      ]
     },
     "execution_count": 186,
     "metadata": {},
     "output_type": "execute_result"
    }
   ],
   "source": [
    "accuracy_score(dt4.predict(X_test), y_test)"
   ]
  },
  {
   "cell_type": "code",
   "execution_count": 187,
   "metadata": {},
   "outputs": [
    {
     "data": {
      "text/plain": [
       "0.7077922077922078"
      ]
     },
     "execution_count": 187,
     "metadata": {},
     "output_type": "execute_result"
    }
   ],
   "source": [
    "accuracy_score(dt2.predict(X_test_exp), y_test)"
   ]
  },
  {
   "cell_type": "code",
   "execution_count": 188,
   "metadata": {},
   "outputs": [
    {
     "data": {
      "text/plain": [
       "0.9545454545454546"
      ]
     },
     "execution_count": 188,
     "metadata": {},
     "output_type": "execute_result"
    }
   ],
   "source": [
    "accuracy_score(dt4.predict(X_test), bb_y_test)"
   ]
  },
  {
   "cell_type": "code",
   "execution_count": 189,
   "metadata": {},
   "outputs": [
    {
     "data": {
      "text/plain": [
       "0.8766233766233766"
      ]
     },
     "execution_count": 189,
     "metadata": {},
     "output_type": "execute_result"
    }
   ],
   "source": [
    "accuracy_score(dt2.predict(X_test_exp), bb_y_test)"
   ]
  },
  {
   "cell_type": "code",
   "execution_count": 114,
   "metadata": {},
   "outputs": [
    {
     "data": {
      "text/plain": [
       "array([0, 0, 0, ..., 0, 0, 0])"
      ]
     },
     "execution_count": 114,
     "metadata": {},
     "output_type": "execute_result"
    }
   ],
   "source": []
  },
  {
   "cell_type": "code",
   "execution_count": 204,
   "metadata": {},
   "outputs": [
    {
     "data": {
      "text/plain": [
       "True"
      ]
     },
     "execution_count": 204,
     "metadata": {},
     "output_type": "execute_result"
    }
   ],
   "source": [
    "graph=export_graphviz(dt1, filled=True, feature_names=column_names[:-1])\n",
    "graph=pydotplus.graph_from_dot_data(graph)\n",
    "graph.write_png('dt1.png') "
   ]
  },
  {
   "cell_type": "code",
   "execution_count": 205,
   "metadata": {},
   "outputs": [
    {
     "data": {
      "text/plain": [
       "True"
      ]
     },
     "execution_count": 205,
     "metadata": {},
     "output_type": "execute_result"
    }
   ],
   "source": [
    "graph = export_graphviz(dt2, filled=True, feature_names=columns_upper + columns_upper)\n",
    "graph=pydotplus.graph_from_dot_data(graph)\n",
    "graph.write_png('dt2.png') "
   ]
  },
  {
   "cell_type": "code",
   "execution_count": 206,
   "metadata": {},
   "outputs": [
    {
     "data": {
      "text/plain": [
       "True"
      ]
     },
     "execution_count": 206,
     "metadata": {},
     "output_type": "execute_result"
    }
   ],
   "source": [
    "graph = export_graphviz(dt4, filled=True, feature_names=column_names[:-1])\n",
    "graph=pydotplus.graph_from_dot_data(graph)\n",
    "graph.write_png('dt4.png') "
   ]
  },
  {
   "cell_type": "code",
   "execution_count": null,
   "metadata": {},
   "outputs": [],
   "source": [
    "import weka.core.jvm as jvm\n",
    "jvm.start()\n"
   ]
  },
  {
   "cell_type": "code",
   "execution_count": 157,
   "metadata": {},
   "outputs": [],
   "source": [
    "from weka.core.dataset import create_instances_from_matrices\n",
    "from weka.classifiers import Classifier, Evaluation\n",
    "import weka.plot.classifiers as plot_cls\n",
    "import weka.plot.graph as plot_graph\n",
    "from weka.filters import Filter\n",
    "cls = Classifier(classname=\"weka.classifiers.rules.JRip\", options=[\"-N\", f\"{str(n_min)}\", \"-P\"])"
   ]
  },
  {
   "cell_type": "code",
   "execution_count": 164,
   "metadata": {},
   "outputs": [],
   "source": [
    "dataset = create_instances_from_matrices(X_train, bb_y_train, name=\"generated from matrices\")\n",
    "dataset.class_is_last()\n",
    "\n",
    "\n",
    "nominal = Filter(classname=\"weka.filters.unsupervised.attribute.NumericToNominal\", options=[\"-R\", \"last\"])\n",
    "nominal.inputformat(dataset)\n",
    "nominaldata1 = nominal.filter(dataset)\n",
    "nominaldata1.class_is_last()\n",
    "\n",
    "cls.build_classifier(nominaldata1)"
   ]
  },
  {
   "cell_type": "code",
   "execution_count": 165,
   "metadata": {},
   "outputs": [
    {
     "name": "stdout",
     "output_type": "stream",
     "text": [
      "JRIP rules:\n",
      "===========\n",
      "\n",
      "(x2 >= 0.680699) and (x6 >= -0.252935) => y=1 (117.0/0.0)\n",
      "(x2 >= 0.437074) and (x1 >= 0.333032) => y=1 (27.0/0.0)\n",
      "(x2 >= 0.162996) and (x6 >= 0.512967) and (x4 >= 0.356128) => y=1 (17.0/0.0)\n",
      "(x2 >= 1.046137) => y=1 (8.0/0.0)\n",
      "(x6 >= -0.559295) and (x2 >= 0.650246) and (x1 >= -0.54768) => y=1 (7.0/0.0)\n",
      " => y=0 (438.0/15.0)\n",
      "\n",
      "Number of Rules : 6\n",
      "\n"
     ]
    }
   ],
   "source": [
    "print(cls)\n"
   ]
  },
  {
   "cell_type": "code",
   "execution_count": 168,
   "metadata": {},
   "outputs": [],
   "source": [
    "dataset = create_instances_from_matrices(X_test, bb_y_test, name=\"Test\")\n",
    "dataset.class_is_last()\n",
    "\n",
    "\n",
    "nominal = Filter(classname=\"weka.filters.unsupervised.attribute.NumericToNominal\", options=[\"-R\", \"last\"])\n",
    "nominal.inputformat(dataset)\n",
    "nominaldata1 = nominal.filter(dataset)\n",
    "nominaldata1.class_is_last()"
   ]
  },
  {
   "cell_type": "code",
   "execution_count": 169,
   "metadata": {},
   "outputs": [
    {
     "name": "stdout",
     "output_type": "stream",
     "text": [
      "\n",
      "Correctly Classified Instances         146               94.8052 %\n",
      "Incorrectly Classified Instances         8                5.1948 %\n",
      "Kappa statistic                          0.8709\n",
      "Mean absolute error                      0.0749\n",
      "Root mean squared error                  0.2259\n",
      "Relative absolute error                 18.5389 %\n",
      "Root relative squared error             50.3457 %\n",
      "Total Number of Instances              154     \n",
      "\n"
     ]
    }
   ],
   "source": [
    "evaluation = Evaluation(nominaldata1)\n",
    "evl = evaluation.test_model(cls, nominaldata1)\n",
    "\n",
    "print(evaluation.summary())"
   ]
  },
  {
   "cell_type": "code",
   "execution_count": null,
   "metadata": {},
   "outputs": [],
   "source": []
  },
  {
   "cell_type": "code",
   "execution_count": 88,
   "metadata": {},
   "outputs": [
    {
     "data": {
      "text/plain": [
       "<Figure size 648x486 with 0 Axes>"
      ]
     },
     "metadata": {},
     "output_type": "display_data"
    }
   ],
   "source": [
    "plt.rcParams[\"figure.figsize\"] = (9,6.75)\n",
    "\n",
    "X1 = X_train[:,0]\n",
    "X2 = X_train[:,1]\n",
    "steps = 1000\n",
    "cmap = colors.ListedColormap(list(color_map.values())[:len(np.unique(y_train))])\n",
    "# Define region of interest by data limits\n",
    "deltaX = (max(X1) - min(X1))/10\n",
    "deltaY = (max(X2) - min(X2))/10\n",
    "\n",
    "xmin, xmax = min(X1) - deltaX, max(X1) + deltaX\n",
    "ymin, ymax = min(X2) - deltaY, max(X2) + deltaY\n",
    "\n",
    "x_span = np.linspace(xmin, xmax, steps)\n",
    "y_span = np.linspace(ymin, ymax, steps)\n",
    "xx, yy = np.meshgrid(x_span, y_span)\n",
    "\n",
    "# Make predictions across region of interest\n",
    "labels_dt = dt4.predict(np.c_[xx.ravel(), yy.ravel()])\n",
    "#labels_dt = np.argmax(labels_bb, axis = 1)\n",
    "\n",
    "#plt.subplot(2, 1, 1)\n",
    "z1 = labels_dt.reshape(xx.shape)\n",
    "ranges = np.linspace(z1.min(), z1.max(), len(color_map.values())+1)\n",
    "norm = colors.BoundaryNorm(ranges, cmap.N)\n",
    "\n",
    "\n",
    "plt.contourf(xx, yy, z1, alpha=0.2, cmap = cmap, norm=norm)\n",
    "\n",
    "plt.scatter(X1, X2, c = [color_map[y_train[i]] for i in range(X_train.shape[0])],  edgecolor='k', lw=0, cmap=\"Set1\")\n",
    "currentAxis = plt.gca()\n",
    "\n",
    "plt.savefig(f\"dt_post_hoc.png\")\n",
    "plt.clf()"
   ]
  },
  {
   "cell_type": "code",
   "execution_count": 90,
   "metadata": {},
   "outputs": [
    {
     "data": {
      "text/plain": [
       "<Figure size 648x486 with 0 Axes>"
      ]
     },
     "metadata": {},
     "output_type": "display_data"
    }
   ],
   "source": [
    "X1 = X_train[:,0]\n",
    "X2 = X_train[:,1]\n",
    "steps = 1000\n",
    "plt.rcParams[\"figure.figsize\"] = (9,6.75)\n",
    "cmap = colors.ListedColormap(list(color_map.values())[:len(np.unique(y_train))])\n",
    "# Define region of interest by data limits\n",
    "deltaX = (max(X1) - min(X1))/10\n",
    "deltaY = (max(X2) - min(X2))/10\n",
    "\n",
    "xmin, xmax = min(X1) - deltaX, max(X1) + deltaX\n",
    "ymin, ymax = min(X2) - deltaY, max(X2) + deltaY\n",
    "\n",
    "x_span = np.linspace(xmin, xmax, steps)\n",
    "y_span = np.linspace(ymin, ymax, steps)\n",
    "xx, yy = np.meshgrid(x_span, y_span)\n",
    "\n",
    "# Make predictions across region of interest\n",
    "labels_dt = dt2.predict(binarise(lower, upper,np.c_[xx.ravel(), yy.ravel()]))\n",
    "#labels_dt = np.argmax(labels_bb, axis = 1)\n",
    "\n",
    "#plt.subplot(2, 1, 1)\n",
    "z1 = labels_dt.reshape(xx.shape)\n",
    "ranges = np.linspace(z1.min(), z1.max(), len(color_map.values())+1)\n",
    "norm = colors.BoundaryNorm(ranges, cmap.N)\n",
    "\n",
    "\n",
    "plt.contourf(xx, yy, z1, alpha=0.2, cmap = cmap, norm=norm)\n",
    "\n",
    "plt.scatter(X1, X2, c = [color_map[y_train[i]] for i in range(X_train.shape[0])],  edgecolor='k', lw=0, cmap=\"Set1\")\n",
    "currentAxis = plt.gca()\n",
    "\n",
    "plt.savefig(f\"dt_post_hoc_with_regul.png\")\n",
    "plt.clf()"
   ]
  },
  {
   "cell_type": "code",
   "execution_count": 28,
   "metadata": {},
   "outputs": [],
   "source": [
    "X_low = (np.expand_dims(X_train, axis = 1) < alpha1) + 0\n",
    "\n",
    "X_upp = (np.expand_dims(X_train, axis = 1) < alpha2) + 0"
   ]
  },
  {
   "cell_type": "code",
   "execution_count": null,
   "metadata": {},
   "outputs": [],
   "source": []
  }
 ],
 "metadata": {
  "kernelspec": {
   "display_name": "Python 3",
   "language": "python",
   "name": "python3"
  },
  "language_info": {
   "codemirror_mode": {
    "name": "ipython",
    "version": 3
   },
   "file_extension": ".py",
   "mimetype": "text/x-python",
   "name": "python",
   "nbconvert_exporter": "python",
   "pygments_lexer": "ipython3",
   "version": "3.6.9"
  }
 },
 "nbformat": 4,
 "nbformat_minor": 4
}
